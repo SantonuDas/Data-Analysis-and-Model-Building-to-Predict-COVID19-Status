{
 "cells": [
  {
   "cell_type": "markdown",
   "id": "b397c125",
   "metadata": {},
   "source": [
    "## --Project || Proposal of ML Model for COVID19 Predictions ||--"
   ]
  },
  {
   "cell_type": "markdown",
   "id": "ae681473",
   "metadata": {},
   "source": [
    "### Introduction of Project ::--\n",
    "\n",
    "-- The COVID-19 pandemic has had a profound impact on the world, affecting public health, economies, and daily life. Predicting the spread of the virus and its impact on communities has become a critical task. In response to this, an end-to-end COVID-19 prediction model project has been developed to harness the power of data science and machine learning to aid in forecasting and understanding the dynamics of the pandemic.In this project,we are going to explore various factors and use predictive models to improve the accuracy of COVID19 status predictions.This predictive model can be helpful for the overall medical sectors to get COVID19 status for future patients in a hassel free process."
   ]
  },
  {
   "cell_type": "markdown",
   "id": "30926d39",
   "metadata": {},
   "source": [
    "### Project Objective ::--\n",
    "\n",
    "--The primary objective of this project is to create a robust and accurate COVID-19 prediction model that can forecast key pandemic-related metrics by exploring different parameters. By leveraging historical data and various machine learning techniques, we aim to provide timely and reliable insights to inform public health interventions, resource allocation, and policy decisions."
   ]
  },
  {
   "cell_type": "code",
   "execution_count": 1,
   "id": "33ff55f8",
   "metadata": {},
   "outputs": [],
   "source": [
    "import warnings\n",
    "warnings.filterwarnings(\"ignore\")"
   ]
  },
  {
   "cell_type": "code",
   "execution_count": 2,
   "id": "4b902a4a",
   "metadata": {},
   "outputs": [],
   "source": [
    "import numpy as np\n",
    "import pandas as pd\n",
    "import matplotlib.pyplot as plt\n",
    "import seaborn as sns\n",
    "from scipy import stats"
   ]
  },
  {
   "cell_type": "markdown",
   "id": "ebed2e46",
   "metadata": {},
   "source": [
    "## -- Basic Data Exploration --"
   ]
  },
  {
   "cell_type": "markdown",
   "id": "2cc7d8f5",
   "metadata": {},
   "source": [
    "#### <font color = 'Orange'>--- Reading CSV Files to Dataframe ---"
   ]
  },
  {
   "cell_type": "markdown",
   "id": "afb2aec7",
   "metadata": {},
   "source": [
    "#### <font color = 'Orange'>--- Reading the \"corona_test_data.csv\" dataframe. Using \"encoding\" to specify an encoding to use when reading a file --"
   ]
  },
  {
   "cell_type": "code",
   "execution_count": 147,
   "id": "95660b33",
   "metadata": {},
   "outputs": [
    {
     "data": {
      "text/html": [
       "<div>\n",
       "<style scoped>\n",
       "    .dataframe tbody tr th:only-of-type {\n",
       "        vertical-align: middle;\n",
       "    }\n",
       "\n",
       "    .dataframe tbody tr th {\n",
       "        vertical-align: top;\n",
       "    }\n",
       "\n",
       "    .dataframe thead th {\n",
       "        text-align: right;\n",
       "    }\n",
       "</style>\n",
       "<table border=\"1\" class=\"dataframe\">\n",
       "  <thead>\n",
       "    <tr style=\"text-align: right;\">\n",
       "      <th></th>\n",
       "      <th>Ind_ID</th>\n",
       "      <th>Test_date</th>\n",
       "      <th>Cough_symptoms</th>\n",
       "      <th>Fever</th>\n",
       "      <th>Sore_throat</th>\n",
       "      <th>Shortness_of_breath</th>\n",
       "      <th>Headache</th>\n",
       "      <th>Corona</th>\n",
       "      <th>Age_60_above</th>\n",
       "      <th>Sex</th>\n",
       "      <th>Known_contact</th>\n",
       "    </tr>\n",
       "  </thead>\n",
       "  <tbody>\n",
       "    <tr>\n",
       "      <th>0</th>\n",
       "      <td>1</td>\n",
       "      <td>11-03-2020</td>\n",
       "      <td>TRUE</td>\n",
       "      <td>FALSE</td>\n",
       "      <td>TRUE</td>\n",
       "      <td>FALSE</td>\n",
       "      <td>FALSE</td>\n",
       "      <td>negative</td>\n",
       "      <td>None</td>\n",
       "      <td>None</td>\n",
       "      <td>Abroad</td>\n",
       "    </tr>\n",
       "    <tr>\n",
       "      <th>1</th>\n",
       "      <td>2</td>\n",
       "      <td>11-03-2020</td>\n",
       "      <td>FALSE</td>\n",
       "      <td>TRUE</td>\n",
       "      <td>FALSE</td>\n",
       "      <td>FALSE</td>\n",
       "      <td>FALSE</td>\n",
       "      <td>positive</td>\n",
       "      <td>None</td>\n",
       "      <td>None</td>\n",
       "      <td>Abroad</td>\n",
       "    </tr>\n",
       "    <tr>\n",
       "      <th>2</th>\n",
       "      <td>3</td>\n",
       "      <td>11-03-2020</td>\n",
       "      <td>FALSE</td>\n",
       "      <td>TRUE</td>\n",
       "      <td>FALSE</td>\n",
       "      <td>FALSE</td>\n",
       "      <td>FALSE</td>\n",
       "      <td>positive</td>\n",
       "      <td>None</td>\n",
       "      <td>None</td>\n",
       "      <td>Abroad</td>\n",
       "    </tr>\n",
       "    <tr>\n",
       "      <th>3</th>\n",
       "      <td>4</td>\n",
       "      <td>11-03-2020</td>\n",
       "      <td>TRUE</td>\n",
       "      <td>FALSE</td>\n",
       "      <td>FALSE</td>\n",
       "      <td>FALSE</td>\n",
       "      <td>FALSE</td>\n",
       "      <td>negative</td>\n",
       "      <td>None</td>\n",
       "      <td>None</td>\n",
       "      <td>Abroad</td>\n",
       "    </tr>\n",
       "    <tr>\n",
       "      <th>4</th>\n",
       "      <td>5</td>\n",
       "      <td>11-03-2020</td>\n",
       "      <td>TRUE</td>\n",
       "      <td>FALSE</td>\n",
       "      <td>FALSE</td>\n",
       "      <td>FALSE</td>\n",
       "      <td>FALSE</td>\n",
       "      <td>negative</td>\n",
       "      <td>None</td>\n",
       "      <td>None</td>\n",
       "      <td>Contact with confirmed</td>\n",
       "    </tr>\n",
       "    <tr>\n",
       "      <th>...</th>\n",
       "      <td>...</td>\n",
       "      <td>...</td>\n",
       "      <td>...</td>\n",
       "      <td>...</td>\n",
       "      <td>...</td>\n",
       "      <td>...</td>\n",
       "      <td>...</td>\n",
       "      <td>...</td>\n",
       "      <td>...</td>\n",
       "      <td>...</td>\n",
       "      <td>...</td>\n",
       "    </tr>\n",
       "    <tr>\n",
       "      <th>278843</th>\n",
       "      <td>278844</td>\n",
       "      <td>30-04-2020</td>\n",
       "      <td>False</td>\n",
       "      <td>False</td>\n",
       "      <td>False</td>\n",
       "      <td>False</td>\n",
       "      <td>False</td>\n",
       "      <td>positive</td>\n",
       "      <td>None</td>\n",
       "      <td>male</td>\n",
       "      <td>Other</td>\n",
       "    </tr>\n",
       "    <tr>\n",
       "      <th>278844</th>\n",
       "      <td>278845</td>\n",
       "      <td>30-04-2020</td>\n",
       "      <td>False</td>\n",
       "      <td>False</td>\n",
       "      <td>False</td>\n",
       "      <td>False</td>\n",
       "      <td>False</td>\n",
       "      <td>negative</td>\n",
       "      <td>None</td>\n",
       "      <td>female</td>\n",
       "      <td>Other</td>\n",
       "    </tr>\n",
       "    <tr>\n",
       "      <th>278845</th>\n",
       "      <td>278846</td>\n",
       "      <td>30-04-2020</td>\n",
       "      <td>False</td>\n",
       "      <td>False</td>\n",
       "      <td>False</td>\n",
       "      <td>False</td>\n",
       "      <td>False</td>\n",
       "      <td>negative</td>\n",
       "      <td>None</td>\n",
       "      <td>male</td>\n",
       "      <td>Other</td>\n",
       "    </tr>\n",
       "    <tr>\n",
       "      <th>278846</th>\n",
       "      <td>278847</td>\n",
       "      <td>30-04-2020</td>\n",
       "      <td>False</td>\n",
       "      <td>False</td>\n",
       "      <td>False</td>\n",
       "      <td>False</td>\n",
       "      <td>False</td>\n",
       "      <td>negative</td>\n",
       "      <td>None</td>\n",
       "      <td>male</td>\n",
       "      <td>Other</td>\n",
       "    </tr>\n",
       "    <tr>\n",
       "      <th>278847</th>\n",
       "      <td>278848</td>\n",
       "      <td>30-04-2020</td>\n",
       "      <td>False</td>\n",
       "      <td>False</td>\n",
       "      <td>False</td>\n",
       "      <td>False</td>\n",
       "      <td>False</td>\n",
       "      <td>negative</td>\n",
       "      <td>None</td>\n",
       "      <td>female</td>\n",
       "      <td>Other</td>\n",
       "    </tr>\n",
       "  </tbody>\n",
       "</table>\n",
       "<p>278848 rows × 11 columns</p>\n",
       "</div>"
      ],
      "text/plain": [
       "        Ind_ID   Test_date Cough_symptoms  Fever Sore_throat  \\\n",
       "0            1  11-03-2020           TRUE  FALSE        TRUE   \n",
       "1            2  11-03-2020          FALSE   TRUE       FALSE   \n",
       "2            3  11-03-2020          FALSE   TRUE       FALSE   \n",
       "3            4  11-03-2020           TRUE  FALSE       FALSE   \n",
       "4            5  11-03-2020           TRUE  FALSE       FALSE   \n",
       "...        ...         ...            ...    ...         ...   \n",
       "278843  278844  30-04-2020          False  False       False   \n",
       "278844  278845  30-04-2020          False  False       False   \n",
       "278845  278846  30-04-2020          False  False       False   \n",
       "278846  278847  30-04-2020          False  False       False   \n",
       "278847  278848  30-04-2020          False  False       False   \n",
       "\n",
       "       Shortness_of_breath Headache    Corona Age_60_above     Sex  \\\n",
       "0                    FALSE    FALSE  negative         None    None   \n",
       "1                    FALSE    FALSE  positive         None    None   \n",
       "2                    FALSE    FALSE  positive         None    None   \n",
       "3                    FALSE    FALSE  negative         None    None   \n",
       "4                    FALSE    FALSE  negative         None    None   \n",
       "...                    ...      ...       ...          ...     ...   \n",
       "278843               False    False  positive         None    male   \n",
       "278844               False    False  negative         None  female   \n",
       "278845               False    False  negative         None    male   \n",
       "278846               False    False  negative         None    male   \n",
       "278847               False    False  negative         None  female   \n",
       "\n",
       "                 Known_contact  \n",
       "0                       Abroad  \n",
       "1                       Abroad  \n",
       "2                       Abroad  \n",
       "3                       Abroad  \n",
       "4       Contact with confirmed  \n",
       "...                        ...  \n",
       "278843                   Other  \n",
       "278844                   Other  \n",
       "278845                   Other  \n",
       "278846                   Other  \n",
       "278847                   Other  \n",
       "\n",
       "[278848 rows x 11 columns]"
      ]
     },
     "execution_count": 147,
     "metadata": {},
     "output_type": "execute_result"
    }
   ],
   "source": [
    "cov=pd.read_csv(\"corona_test_data.csv\")\n",
    "cov"
   ]
  },
  {
   "cell_type": "markdown",
   "id": "33e24cb5",
   "metadata": {},
   "source": [
    "### <font color = 'White'>---->> When the dataset was reading in Excel any upper or lower case issue was not found but here in Pandas the issue can be seen easily.So during the reading here in Pandas I am mentioning \"dtype\" parameter for the effected columns and also mensioning the \"encoding\"."
   ]
  },
  {
   "cell_type": "code",
   "execution_count": 148,
   "id": "7ff86500",
   "metadata": {
    "scrolled": false
   },
   "outputs": [
    {
     "data": {
      "text/html": [
       "<div>\n",
       "<style scoped>\n",
       "    .dataframe tbody tr th:only-of-type {\n",
       "        vertical-align: middle;\n",
       "    }\n",
       "\n",
       "    .dataframe tbody tr th {\n",
       "        vertical-align: top;\n",
       "    }\n",
       "\n",
       "    .dataframe thead th {\n",
       "        text-align: right;\n",
       "    }\n",
       "</style>\n",
       "<table border=\"1\" class=\"dataframe\">\n",
       "  <thead>\n",
       "    <tr style=\"text-align: right;\">\n",
       "      <th></th>\n",
       "      <th>Ind_ID</th>\n",
       "      <th>Test_date</th>\n",
       "      <th>Cough_symptoms</th>\n",
       "      <th>Fever</th>\n",
       "      <th>Sore_throat</th>\n",
       "      <th>Shortness_of_breath</th>\n",
       "      <th>Headache</th>\n",
       "      <th>Corona</th>\n",
       "      <th>Age_60_above</th>\n",
       "      <th>Sex</th>\n",
       "      <th>Known_contact</th>\n",
       "    </tr>\n",
       "  </thead>\n",
       "  <tbody>\n",
       "    <tr>\n",
       "      <th>0</th>\n",
       "      <td>1</td>\n",
       "      <td>11-03-2020</td>\n",
       "      <td>TRUE</td>\n",
       "      <td>FALSE</td>\n",
       "      <td>TRUE</td>\n",
       "      <td>FALSE</td>\n",
       "      <td>FALSE</td>\n",
       "      <td>negative</td>\n",
       "      <td>None</td>\n",
       "      <td>None</td>\n",
       "      <td>Abroad</td>\n",
       "    </tr>\n",
       "    <tr>\n",
       "      <th>1</th>\n",
       "      <td>2</td>\n",
       "      <td>11-03-2020</td>\n",
       "      <td>FALSE</td>\n",
       "      <td>TRUE</td>\n",
       "      <td>FALSE</td>\n",
       "      <td>FALSE</td>\n",
       "      <td>FALSE</td>\n",
       "      <td>positive</td>\n",
       "      <td>None</td>\n",
       "      <td>None</td>\n",
       "      <td>Abroad</td>\n",
       "    </tr>\n",
       "    <tr>\n",
       "      <th>2</th>\n",
       "      <td>3</td>\n",
       "      <td>11-03-2020</td>\n",
       "      <td>FALSE</td>\n",
       "      <td>TRUE</td>\n",
       "      <td>FALSE</td>\n",
       "      <td>FALSE</td>\n",
       "      <td>FALSE</td>\n",
       "      <td>positive</td>\n",
       "      <td>None</td>\n",
       "      <td>None</td>\n",
       "      <td>Abroad</td>\n",
       "    </tr>\n",
       "    <tr>\n",
       "      <th>3</th>\n",
       "      <td>4</td>\n",
       "      <td>11-03-2020</td>\n",
       "      <td>TRUE</td>\n",
       "      <td>FALSE</td>\n",
       "      <td>FALSE</td>\n",
       "      <td>FALSE</td>\n",
       "      <td>FALSE</td>\n",
       "      <td>negative</td>\n",
       "      <td>None</td>\n",
       "      <td>None</td>\n",
       "      <td>Abroad</td>\n",
       "    </tr>\n",
       "    <tr>\n",
       "      <th>4</th>\n",
       "      <td>5</td>\n",
       "      <td>11-03-2020</td>\n",
       "      <td>TRUE</td>\n",
       "      <td>FALSE</td>\n",
       "      <td>FALSE</td>\n",
       "      <td>FALSE</td>\n",
       "      <td>FALSE</td>\n",
       "      <td>negative</td>\n",
       "      <td>None</td>\n",
       "      <td>None</td>\n",
       "      <td>Contact with confirmed</td>\n",
       "    </tr>\n",
       "    <tr>\n",
       "      <th>...</th>\n",
       "      <td>...</td>\n",
       "      <td>...</td>\n",
       "      <td>...</td>\n",
       "      <td>...</td>\n",
       "      <td>...</td>\n",
       "      <td>...</td>\n",
       "      <td>...</td>\n",
       "      <td>...</td>\n",
       "      <td>...</td>\n",
       "      <td>...</td>\n",
       "      <td>...</td>\n",
       "    </tr>\n",
       "    <tr>\n",
       "      <th>278843</th>\n",
       "      <td>278844</td>\n",
       "      <td>30-04-2020</td>\n",
       "      <td>FALSE</td>\n",
       "      <td>FALSE</td>\n",
       "      <td>FALSE</td>\n",
       "      <td>FALSE</td>\n",
       "      <td>FALSE</td>\n",
       "      <td>positive</td>\n",
       "      <td>None</td>\n",
       "      <td>male</td>\n",
       "      <td>Other</td>\n",
       "    </tr>\n",
       "    <tr>\n",
       "      <th>278844</th>\n",
       "      <td>278845</td>\n",
       "      <td>30-04-2020</td>\n",
       "      <td>FALSE</td>\n",
       "      <td>FALSE</td>\n",
       "      <td>FALSE</td>\n",
       "      <td>FALSE</td>\n",
       "      <td>FALSE</td>\n",
       "      <td>negative</td>\n",
       "      <td>None</td>\n",
       "      <td>female</td>\n",
       "      <td>Other</td>\n",
       "    </tr>\n",
       "    <tr>\n",
       "      <th>278845</th>\n",
       "      <td>278846</td>\n",
       "      <td>30-04-2020</td>\n",
       "      <td>FALSE</td>\n",
       "      <td>FALSE</td>\n",
       "      <td>FALSE</td>\n",
       "      <td>FALSE</td>\n",
       "      <td>FALSE</td>\n",
       "      <td>negative</td>\n",
       "      <td>None</td>\n",
       "      <td>male</td>\n",
       "      <td>Other</td>\n",
       "    </tr>\n",
       "    <tr>\n",
       "      <th>278846</th>\n",
       "      <td>278847</td>\n",
       "      <td>30-04-2020</td>\n",
       "      <td>FALSE</td>\n",
       "      <td>FALSE</td>\n",
       "      <td>FALSE</td>\n",
       "      <td>FALSE</td>\n",
       "      <td>FALSE</td>\n",
       "      <td>negative</td>\n",
       "      <td>None</td>\n",
       "      <td>male</td>\n",
       "      <td>Other</td>\n",
       "    </tr>\n",
       "    <tr>\n",
       "      <th>278847</th>\n",
       "      <td>278848</td>\n",
       "      <td>30-04-2020</td>\n",
       "      <td>FALSE</td>\n",
       "      <td>FALSE</td>\n",
       "      <td>FALSE</td>\n",
       "      <td>FALSE</td>\n",
       "      <td>FALSE</td>\n",
       "      <td>negative</td>\n",
       "      <td>None</td>\n",
       "      <td>female</td>\n",
       "      <td>Other</td>\n",
       "    </tr>\n",
       "  </tbody>\n",
       "</table>\n",
       "<p>278848 rows × 11 columns</p>\n",
       "</div>"
      ],
      "text/plain": [
       "        Ind_ID   Test_date Cough_symptoms  Fever Sore_throat  \\\n",
       "0            1  11-03-2020           TRUE  FALSE        TRUE   \n",
       "1            2  11-03-2020          FALSE   TRUE       FALSE   \n",
       "2            3  11-03-2020          FALSE   TRUE       FALSE   \n",
       "3            4  11-03-2020           TRUE  FALSE       FALSE   \n",
       "4            5  11-03-2020           TRUE  FALSE       FALSE   \n",
       "...        ...         ...            ...    ...         ...   \n",
       "278843  278844  30-04-2020          FALSE  FALSE       FALSE   \n",
       "278844  278845  30-04-2020          FALSE  FALSE       FALSE   \n",
       "278845  278846  30-04-2020          FALSE  FALSE       FALSE   \n",
       "278846  278847  30-04-2020          FALSE  FALSE       FALSE   \n",
       "278847  278848  30-04-2020          FALSE  FALSE       FALSE   \n",
       "\n",
       "       Shortness_of_breath Headache    Corona Age_60_above     Sex  \\\n",
       "0                    FALSE    FALSE  negative         None    None   \n",
       "1                    FALSE    FALSE  positive         None    None   \n",
       "2                    FALSE    FALSE  positive         None    None   \n",
       "3                    FALSE    FALSE  negative         None    None   \n",
       "4                    FALSE    FALSE  negative         None    None   \n",
       "...                    ...      ...       ...          ...     ...   \n",
       "278843               FALSE    FALSE  positive         None    male   \n",
       "278844               FALSE    FALSE  negative         None  female   \n",
       "278845               FALSE    FALSE  negative         None    male   \n",
       "278846               FALSE    FALSE  negative         None    male   \n",
       "278847               FALSE    FALSE  negative         None  female   \n",
       "\n",
       "                 Known_contact  \n",
       "0                       Abroad  \n",
       "1                       Abroad  \n",
       "2                       Abroad  \n",
       "3                       Abroad  \n",
       "4       Contact with confirmed  \n",
       "...                        ...  \n",
       "278843                   Other  \n",
       "278844                   Other  \n",
       "278845                   Other  \n",
       "278846                   Other  \n",
       "278847                   Other  \n",
       "\n",
       "[278848 rows x 11 columns]"
      ]
     },
     "execution_count": 148,
     "metadata": {},
     "output_type": "execute_result"
    }
   ],
   "source": [
    "covid=pd.read_csv(\"corona_test_data.csv\",dtype= {\"Cough_symptoms\":\"str\",\"Fever\":\"str\",\"Sore_throat\":\"str\",\n",
    "                                                \"Shortness_of_breath\":\"str\",\"Headache\":\"str\"},\n",
    "                                                encoding=\"utf-8\")\n",
    "covid"
   ]
  },
  {
   "cell_type": "markdown",
   "id": "63ecb820",
   "metadata": {},
   "source": [
    "#### <font color = 'White'>---->> Here First thing came into my notice that output column \"Corona\" is in the middle of dataset. So here I am going to move that column to the last index."
   ]
  },
  {
   "cell_type": "code",
   "execution_count": 149,
   "id": "6fdb9b1d",
   "metadata": {},
   "outputs": [],
   "source": [
    "#### Poping up the \"Corona\" column move into the last as it is the Output Column ####\n",
    "op_col=\"Corona\"\n",
    "column=covid.pop(op_col)\n",
    "covid[op_col]=column"
   ]
  },
  {
   "cell_type": "code",
   "execution_count": 150,
   "id": "c4748675",
   "metadata": {},
   "outputs": [
    {
     "data": {
      "text/html": [
       "<div>\n",
       "<style scoped>\n",
       "    .dataframe tbody tr th:only-of-type {\n",
       "        vertical-align: middle;\n",
       "    }\n",
       "\n",
       "    .dataframe tbody tr th {\n",
       "        vertical-align: top;\n",
       "    }\n",
       "\n",
       "    .dataframe thead th {\n",
       "        text-align: right;\n",
       "    }\n",
       "</style>\n",
       "<table border=\"1\" class=\"dataframe\">\n",
       "  <thead>\n",
       "    <tr style=\"text-align: right;\">\n",
       "      <th></th>\n",
       "      <th>Ind_ID</th>\n",
       "      <th>Test_date</th>\n",
       "      <th>Cough_symptoms</th>\n",
       "      <th>Fever</th>\n",
       "      <th>Sore_throat</th>\n",
       "      <th>Shortness_of_breath</th>\n",
       "      <th>Headache</th>\n",
       "      <th>Age_60_above</th>\n",
       "      <th>Sex</th>\n",
       "      <th>Known_contact</th>\n",
       "      <th>Corona</th>\n",
       "    </tr>\n",
       "  </thead>\n",
       "  <tbody>\n",
       "    <tr>\n",
       "      <th>0</th>\n",
       "      <td>1</td>\n",
       "      <td>11-03-2020</td>\n",
       "      <td>TRUE</td>\n",
       "      <td>FALSE</td>\n",
       "      <td>TRUE</td>\n",
       "      <td>FALSE</td>\n",
       "      <td>FALSE</td>\n",
       "      <td>None</td>\n",
       "      <td>None</td>\n",
       "      <td>Abroad</td>\n",
       "      <td>negative</td>\n",
       "    </tr>\n",
       "    <tr>\n",
       "      <th>1</th>\n",
       "      <td>2</td>\n",
       "      <td>11-03-2020</td>\n",
       "      <td>FALSE</td>\n",
       "      <td>TRUE</td>\n",
       "      <td>FALSE</td>\n",
       "      <td>FALSE</td>\n",
       "      <td>FALSE</td>\n",
       "      <td>None</td>\n",
       "      <td>None</td>\n",
       "      <td>Abroad</td>\n",
       "      <td>positive</td>\n",
       "    </tr>\n",
       "    <tr>\n",
       "      <th>2</th>\n",
       "      <td>3</td>\n",
       "      <td>11-03-2020</td>\n",
       "      <td>FALSE</td>\n",
       "      <td>TRUE</td>\n",
       "      <td>FALSE</td>\n",
       "      <td>FALSE</td>\n",
       "      <td>FALSE</td>\n",
       "      <td>None</td>\n",
       "      <td>None</td>\n",
       "      <td>Abroad</td>\n",
       "      <td>positive</td>\n",
       "    </tr>\n",
       "    <tr>\n",
       "      <th>3</th>\n",
       "      <td>4</td>\n",
       "      <td>11-03-2020</td>\n",
       "      <td>TRUE</td>\n",
       "      <td>FALSE</td>\n",
       "      <td>FALSE</td>\n",
       "      <td>FALSE</td>\n",
       "      <td>FALSE</td>\n",
       "      <td>None</td>\n",
       "      <td>None</td>\n",
       "      <td>Abroad</td>\n",
       "      <td>negative</td>\n",
       "    </tr>\n",
       "    <tr>\n",
       "      <th>4</th>\n",
       "      <td>5</td>\n",
       "      <td>11-03-2020</td>\n",
       "      <td>TRUE</td>\n",
       "      <td>FALSE</td>\n",
       "      <td>FALSE</td>\n",
       "      <td>FALSE</td>\n",
       "      <td>FALSE</td>\n",
       "      <td>None</td>\n",
       "      <td>None</td>\n",
       "      <td>Contact with confirmed</td>\n",
       "      <td>negative</td>\n",
       "    </tr>\n",
       "  </tbody>\n",
       "</table>\n",
       "</div>"
      ],
      "text/plain": [
       "   Ind_ID   Test_date Cough_symptoms  Fever Sore_throat Shortness_of_breath  \\\n",
       "0       1  11-03-2020           TRUE  FALSE        TRUE               FALSE   \n",
       "1       2  11-03-2020          FALSE   TRUE       FALSE               FALSE   \n",
       "2       3  11-03-2020          FALSE   TRUE       FALSE               FALSE   \n",
       "3       4  11-03-2020           TRUE  FALSE       FALSE               FALSE   \n",
       "4       5  11-03-2020           TRUE  FALSE       FALSE               FALSE   \n",
       "\n",
       "  Headache Age_60_above   Sex           Known_contact    Corona  \n",
       "0    FALSE         None  None                  Abroad  negative  \n",
       "1    FALSE         None  None                  Abroad  positive  \n",
       "2    FALSE         None  None                  Abroad  positive  \n",
       "3    FALSE         None  None                  Abroad  negative  \n",
       "4    FALSE         None  None  Contact with confirmed  negative  "
      ]
     },
     "execution_count": 150,
     "metadata": {},
     "output_type": "execute_result"
    }
   ],
   "source": [
    "covid.head()"
   ]
  },
  {
   "cell_type": "code",
   "execution_count": 151,
   "id": "cf66bda4",
   "metadata": {},
   "outputs": [
    {
     "data": {
      "text/html": [
       "<div>\n",
       "<style scoped>\n",
       "    .dataframe tbody tr th:only-of-type {\n",
       "        vertical-align: middle;\n",
       "    }\n",
       "\n",
       "    .dataframe tbody tr th {\n",
       "        vertical-align: top;\n",
       "    }\n",
       "\n",
       "    .dataframe thead th {\n",
       "        text-align: right;\n",
       "    }\n",
       "</style>\n",
       "<table border=\"1\" class=\"dataframe\">\n",
       "  <thead>\n",
       "    <tr style=\"text-align: right;\">\n",
       "      <th></th>\n",
       "      <th>Ind_ID</th>\n",
       "      <th>Test_date</th>\n",
       "      <th>Cough_symptoms</th>\n",
       "      <th>Fever</th>\n",
       "      <th>Sore_throat</th>\n",
       "      <th>Shortness_of_breath</th>\n",
       "      <th>Headache</th>\n",
       "      <th>Age_60_above</th>\n",
       "      <th>Sex</th>\n",
       "      <th>Known_contact</th>\n",
       "      <th>Corona</th>\n",
       "    </tr>\n",
       "  </thead>\n",
       "  <tbody>\n",
       "    <tr>\n",
       "      <th>278843</th>\n",
       "      <td>278844</td>\n",
       "      <td>30-04-2020</td>\n",
       "      <td>FALSE</td>\n",
       "      <td>FALSE</td>\n",
       "      <td>FALSE</td>\n",
       "      <td>FALSE</td>\n",
       "      <td>FALSE</td>\n",
       "      <td>None</td>\n",
       "      <td>male</td>\n",
       "      <td>Other</td>\n",
       "      <td>positive</td>\n",
       "    </tr>\n",
       "    <tr>\n",
       "      <th>278844</th>\n",
       "      <td>278845</td>\n",
       "      <td>30-04-2020</td>\n",
       "      <td>FALSE</td>\n",
       "      <td>FALSE</td>\n",
       "      <td>FALSE</td>\n",
       "      <td>FALSE</td>\n",
       "      <td>FALSE</td>\n",
       "      <td>None</td>\n",
       "      <td>female</td>\n",
       "      <td>Other</td>\n",
       "      <td>negative</td>\n",
       "    </tr>\n",
       "    <tr>\n",
       "      <th>278845</th>\n",
       "      <td>278846</td>\n",
       "      <td>30-04-2020</td>\n",
       "      <td>FALSE</td>\n",
       "      <td>FALSE</td>\n",
       "      <td>FALSE</td>\n",
       "      <td>FALSE</td>\n",
       "      <td>FALSE</td>\n",
       "      <td>None</td>\n",
       "      <td>male</td>\n",
       "      <td>Other</td>\n",
       "      <td>negative</td>\n",
       "    </tr>\n",
       "    <tr>\n",
       "      <th>278846</th>\n",
       "      <td>278847</td>\n",
       "      <td>30-04-2020</td>\n",
       "      <td>FALSE</td>\n",
       "      <td>FALSE</td>\n",
       "      <td>FALSE</td>\n",
       "      <td>FALSE</td>\n",
       "      <td>FALSE</td>\n",
       "      <td>None</td>\n",
       "      <td>male</td>\n",
       "      <td>Other</td>\n",
       "      <td>negative</td>\n",
       "    </tr>\n",
       "    <tr>\n",
       "      <th>278847</th>\n",
       "      <td>278848</td>\n",
       "      <td>30-04-2020</td>\n",
       "      <td>FALSE</td>\n",
       "      <td>FALSE</td>\n",
       "      <td>FALSE</td>\n",
       "      <td>FALSE</td>\n",
       "      <td>FALSE</td>\n",
       "      <td>None</td>\n",
       "      <td>female</td>\n",
       "      <td>Other</td>\n",
       "      <td>negative</td>\n",
       "    </tr>\n",
       "  </tbody>\n",
       "</table>\n",
       "</div>"
      ],
      "text/plain": [
       "        Ind_ID   Test_date Cough_symptoms  Fever Sore_throat  \\\n",
       "278843  278844  30-04-2020          FALSE  FALSE       FALSE   \n",
       "278844  278845  30-04-2020          FALSE  FALSE       FALSE   \n",
       "278845  278846  30-04-2020          FALSE  FALSE       FALSE   \n",
       "278846  278847  30-04-2020          FALSE  FALSE       FALSE   \n",
       "278847  278848  30-04-2020          FALSE  FALSE       FALSE   \n",
       "\n",
       "       Shortness_of_breath Headache Age_60_above     Sex Known_contact  \\\n",
       "278843               FALSE    FALSE         None    male         Other   \n",
       "278844               FALSE    FALSE         None  female         Other   \n",
       "278845               FALSE    FALSE         None    male         Other   \n",
       "278846               FALSE    FALSE         None    male         Other   \n",
       "278847               FALSE    FALSE         None  female         Other   \n",
       "\n",
       "          Corona  \n",
       "278843  positive  \n",
       "278844  negative  \n",
       "278845  negative  \n",
       "278846  negative  \n",
       "278847  negative  "
      ]
     },
     "execution_count": 151,
     "metadata": {},
     "output_type": "execute_result"
    }
   ],
   "source": [
    "covid.tail()"
   ]
  },
  {
   "cell_type": "code",
   "execution_count": 6,
   "id": "6072b7d7",
   "metadata": {},
   "outputs": [
    {
     "data": {
      "text/plain": [
       "(278848, 11)"
      ]
     },
     "execution_count": 6,
     "metadata": {},
     "output_type": "execute_result"
    }
   ],
   "source": [
    "covid.shape"
   ]
  },
  {
   "cell_type": "code",
   "execution_count": 7,
   "id": "cbb87825",
   "metadata": {},
   "outputs": [
    {
     "data": {
      "text/plain": [
       "(278848, 11)"
      ]
     },
     "execution_count": 7,
     "metadata": {},
     "output_type": "execute_result"
    }
   ],
   "source": [
    "covid.drop_duplicates().shape"
   ]
  },
  {
   "cell_type": "markdown",
   "id": "0e1bc6c4",
   "metadata": {},
   "source": [
    "#### <font color = 'Yellow'>---->> Here number of entries haven't reduced that means There was no duplicate entries in \"covid\" dataframe. "
   ]
  },
  {
   "cell_type": "code",
   "execution_count": 62,
   "id": "3d815ae7",
   "metadata": {},
   "outputs": [
    {
     "data": {
      "text/plain": [
       "Index(['Ind_ID', 'Test_date', 'Cough_symptoms', 'Fever', 'Sore_throat',\n",
       "       'Shortness_of_breath', 'Headache', 'Age_60_above', 'Sex',\n",
       "       'Known_contact', 'Corona'],\n",
       "      dtype='object')"
      ]
     },
     "execution_count": 62,
     "metadata": {},
     "output_type": "execute_result"
    }
   ],
   "source": [
    "covid.columns"
   ]
  },
  {
   "cell_type": "code",
   "execution_count": 65,
   "id": "8e578693",
   "metadata": {},
   "outputs": [
    {
     "name": "stdout",
     "output_type": "stream",
     "text": [
      "<class 'pandas.core.frame.DataFrame'>\n",
      "RangeIndex: 278848 entries, 0 to 278847\n",
      "Data columns (total 11 columns):\n",
      " #   Column               Non-Null Count   Dtype \n",
      "---  ------               --------------   ----- \n",
      " 0   Ind_ID               278848 non-null  int64 \n",
      " 1   Test_date            278848 non-null  object\n",
      " 2   Cough_symptoms       278848 non-null  object\n",
      " 3   Fever                278848 non-null  object\n",
      " 4   Sore_throat          278848 non-null  object\n",
      " 5   Shortness_of_breath  278848 non-null  object\n",
      " 6   Headache             278848 non-null  object\n",
      " 7   Age_60_above         278848 non-null  object\n",
      " 8   Sex                  278848 non-null  object\n",
      " 9   Known_contact        278848 non-null  object\n",
      " 10  Corona               278848 non-null  object\n",
      "dtypes: int64(1), object(10)\n",
      "memory usage: 23.4+ MB\n"
     ]
    }
   ],
   "source": [
    "covid.info()"
   ]
  },
  {
   "cell_type": "code",
   "execution_count": 30,
   "id": "c1a4239e",
   "metadata": {},
   "outputs": [
    {
     "data": {
      "text/plain": [
       "Ind_ID                 0\n",
       "Test_date              0\n",
       "Cough_symptoms         0\n",
       "Fever                  0\n",
       "Sore_throat            0\n",
       "Shortness_of_breath    0\n",
       "Headache               0\n",
       "Age_60_above           0\n",
       "Sex                    0\n",
       "Known_contact          0\n",
       "Corona                 0\n",
       "dtype: int64"
      ]
     },
     "execution_count": 30,
     "metadata": {},
     "output_type": "execute_result"
    }
   ],
   "source": [
    "covid.isnull().sum()"
   ]
  },
  {
   "cell_type": "code",
   "execution_count": 33,
   "id": "4e8c9b70",
   "metadata": {},
   "outputs": [
    {
     "data": {
      "text/html": [
       "<div>\n",
       "<style scoped>\n",
       "    .dataframe tbody tr th:only-of-type {\n",
       "        vertical-align: middle;\n",
       "    }\n",
       "\n",
       "    .dataframe tbody tr th {\n",
       "        vertical-align: top;\n",
       "    }\n",
       "\n",
       "    .dataframe thead th {\n",
       "        text-align: right;\n",
       "    }\n",
       "</style>\n",
       "<table border=\"1\" class=\"dataframe\">\n",
       "  <thead>\n",
       "    <tr style=\"text-align: right;\">\n",
       "      <th></th>\n",
       "      <th>Ind_ID</th>\n",
       "      <th>Test_date</th>\n",
       "      <th>Cough_symptoms</th>\n",
       "      <th>Fever</th>\n",
       "      <th>Sore_throat</th>\n",
       "      <th>Shortness_of_breath</th>\n",
       "      <th>Headache</th>\n",
       "      <th>Age_60_above</th>\n",
       "      <th>Sex</th>\n",
       "      <th>Known_contact</th>\n",
       "      <th>Corona</th>\n",
       "    </tr>\n",
       "  </thead>\n",
       "  <tbody>\n",
       "    <tr>\n",
       "      <th>0</th>\n",
       "      <td>1</td>\n",
       "      <td>11-03-2020</td>\n",
       "      <td>TRUE</td>\n",
       "      <td>FALSE</td>\n",
       "      <td>TRUE</td>\n",
       "      <td>FALSE</td>\n",
       "      <td>FALSE</td>\n",
       "      <td>None</td>\n",
       "      <td>None</td>\n",
       "      <td>Abroad</td>\n",
       "      <td>negative</td>\n",
       "    </tr>\n",
       "    <tr>\n",
       "      <th>1</th>\n",
       "      <td>2</td>\n",
       "      <td>11-03-2020</td>\n",
       "      <td>FALSE</td>\n",
       "      <td>TRUE</td>\n",
       "      <td>FALSE</td>\n",
       "      <td>FALSE</td>\n",
       "      <td>FALSE</td>\n",
       "      <td>None</td>\n",
       "      <td>None</td>\n",
       "      <td>Abroad</td>\n",
       "      <td>positive</td>\n",
       "    </tr>\n",
       "    <tr>\n",
       "      <th>2</th>\n",
       "      <td>3</td>\n",
       "      <td>11-03-2020</td>\n",
       "      <td>FALSE</td>\n",
       "      <td>TRUE</td>\n",
       "      <td>FALSE</td>\n",
       "      <td>FALSE</td>\n",
       "      <td>FALSE</td>\n",
       "      <td>None</td>\n",
       "      <td>None</td>\n",
       "      <td>Abroad</td>\n",
       "      <td>positive</td>\n",
       "    </tr>\n",
       "    <tr>\n",
       "      <th>3</th>\n",
       "      <td>4</td>\n",
       "      <td>11-03-2020</td>\n",
       "      <td>TRUE</td>\n",
       "      <td>FALSE</td>\n",
       "      <td>FALSE</td>\n",
       "      <td>FALSE</td>\n",
       "      <td>FALSE</td>\n",
       "      <td>None</td>\n",
       "      <td>None</td>\n",
       "      <td>Abroad</td>\n",
       "      <td>negative</td>\n",
       "    </tr>\n",
       "    <tr>\n",
       "      <th>4</th>\n",
       "      <td>5</td>\n",
       "      <td>11-03-2020</td>\n",
       "      <td>TRUE</td>\n",
       "      <td>FALSE</td>\n",
       "      <td>FALSE</td>\n",
       "      <td>FALSE</td>\n",
       "      <td>FALSE</td>\n",
       "      <td>None</td>\n",
       "      <td>None</td>\n",
       "      <td>Contact with confirmed</td>\n",
       "      <td>negative</td>\n",
       "    </tr>\n",
       "  </tbody>\n",
       "</table>\n",
       "</div>"
      ],
      "text/plain": [
       "   Ind_ID   Test_date Cough_symptoms  Fever Sore_throat Shortness_of_breath  \\\n",
       "0       1  11-03-2020           TRUE  FALSE        TRUE               FALSE   \n",
       "1       2  11-03-2020          FALSE   TRUE       FALSE               FALSE   \n",
       "2       3  11-03-2020          FALSE   TRUE       FALSE               FALSE   \n",
       "3       4  11-03-2020           TRUE  FALSE       FALSE               FALSE   \n",
       "4       5  11-03-2020           TRUE  FALSE       FALSE               FALSE   \n",
       "\n",
       "  Headache Age_60_above   Sex           Known_contact    Corona  \n",
       "0    FALSE         None  None                  Abroad  negative  \n",
       "1    FALSE         None  None                  Abroad  positive  \n",
       "2    FALSE         None  None                  Abroad  positive  \n",
       "3    FALSE         None  None                  Abroad  negative  \n",
       "4    FALSE         None  None  Contact with confirmed  negative  "
      ]
     },
     "execution_count": 33,
     "metadata": {},
     "output_type": "execute_result"
    }
   ],
   "source": [
    "covid.head()"
   ]
  },
  {
   "cell_type": "markdown",
   "id": "a16dd344",
   "metadata": {},
   "source": [
    "#### <font color = 'Yellow'>---->> Here we can Some of values represented as \"None\" in different columns. So we have to check it wheather it is representing null values or some other meaning in \"covid\" Dataframe"
   ]
  },
  {
   "cell_type": "markdown",
   "id": "6d8a1d6b",
   "metadata": {},
   "source": [
    "#### <font color = 'Orange'>---- Checking \"None\" Vlaues from diferent features of Dataframe ----"
   ]
  },
  {
   "cell_type": "code",
   "execution_count": 153,
   "id": "e8f64f4c",
   "metadata": {},
   "outputs": [
    {
     "data": {
      "text/plain": [
       "None    127320\n",
       "No      125703\n",
       "Yes      25825\n",
       "Name: Age_60_above, dtype: int64"
      ]
     },
     "execution_count": 153,
     "metadata": {},
     "output_type": "execute_result"
    }
   ],
   "source": [
    "covid[\"Age_60_above\"].value_counts()"
   ]
  },
  {
   "cell_type": "code",
   "execution_count": 154,
   "id": "069c36bc",
   "metadata": {},
   "outputs": [
    {
     "data": {
      "text/plain": [
       "female    130158\n",
       "male      129127\n",
       "None       19563\n",
       "Name: Sex, dtype: int64"
      ]
     },
     "execution_count": 154,
     "metadata": {},
     "output_type": "execute_result"
    }
   ],
   "source": [
    "covid[\"Sex\"].value_counts()"
   ]
  },
  {
   "cell_type": "code",
   "execution_count": 155,
   "id": "abc04852",
   "metadata": {},
   "outputs": [
    {
     "data": {
      "text/plain": [
       "FALSE    236368\n",
       "TRUE      42228\n",
       "None        252\n",
       "Name: Cough_symptoms, dtype: int64"
      ]
     },
     "execution_count": 155,
     "metadata": {},
     "output_type": "execute_result"
    }
   ],
   "source": [
    "covid[\"Cough_symptoms\"].value_counts()"
   ]
  },
  {
   "cell_type": "code",
   "execution_count": 156,
   "id": "804757bb",
   "metadata": {},
   "outputs": [
    {
     "data": {
      "text/plain": [
       "FALSE    256844\n",
       "TRUE      21752\n",
       "None        252\n",
       "Name: Fever, dtype: int64"
      ]
     },
     "execution_count": 156,
     "metadata": {},
     "output_type": "execute_result"
    }
   ],
   "source": [
    "covid[\"Fever\"].value_counts()"
   ]
  },
  {
   "cell_type": "code",
   "execution_count": 157,
   "id": "6cb9acac",
   "metadata": {},
   "outputs": [
    {
     "data": {
      "text/plain": [
       "FALSE    276921\n",
       "TRUE       1926\n",
       "None          1\n",
       "Name: Sore_throat, dtype: int64"
      ]
     },
     "execution_count": 157,
     "metadata": {},
     "output_type": "execute_result"
    }
   ],
   "source": [
    "covid[\"Sore_throat\"].value_counts()"
   ]
  },
  {
   "cell_type": "code",
   "execution_count": 158,
   "id": "0f3f648e",
   "metadata": {},
   "outputs": [
    {
     "data": {
      "text/plain": [
       "FALSE    277270\n",
       "TRUE       1577\n",
       "None          1\n",
       "Name: Shortness_of_breath, dtype: int64"
      ]
     },
     "execution_count": 158,
     "metadata": {},
     "output_type": "execute_result"
    }
   ],
   "source": [
    "covid[\"Shortness_of_breath\"].value_counts()"
   ]
  },
  {
   "cell_type": "code",
   "execution_count": 159,
   "id": "fffeec9d",
   "metadata": {},
   "outputs": [
    {
     "data": {
      "text/plain": [
       "FALSE    276433\n",
       "TRUE       2414\n",
       "None          1\n",
       "Name: Headache, dtype: int64"
      ]
     },
     "execution_count": 159,
     "metadata": {},
     "output_type": "execute_result"
    }
   ],
   "source": [
    "covid[\"Headache\"].value_counts()"
   ]
  },
  {
   "cell_type": "markdown",
   "id": "04081e88",
   "metadata": {},
   "source": [
    "#### <font color = 'White'>---->> Here it seems in Boolean Valued Columns the \"None\" value represents null values."
   ]
  },
  {
   "cell_type": "markdown",
   "id": "419b80fd",
   "metadata": {},
   "source": [
    "#### <font color = 'White'>---->> In the columns \"Age_60_above\" and \"Sex\" the \"None\" value indicates some other things."
   ]
  },
  {
   "cell_type": "markdown",
   "id": "221aaba7",
   "metadata": {},
   "source": [
    "#### <font color = 'Orange'>--- Replacing None Values with Suitable Terms ---"
   ]
  },
  {
   "cell_type": "code",
   "execution_count": 160,
   "id": "63d9f952",
   "metadata": {},
   "outputs": [],
   "source": [
    "covid[\"Age_60_above\"]=covid[\"Age_60_above\"].replace(\"None\",\"Not_known\")\n",
    "covid[\"Sex\"]=covid[\"Sex\"].replace(\"None\",\"Other\")\n",
    "covid[\"Corona\"]=covid[\"Corona\"].replace(\"other\",\"report_waiting\")"
   ]
  },
  {
   "cell_type": "markdown",
   "id": "19c73aa1",
   "metadata": {},
   "source": [
    "#### <font color = 'Yellow'>---->> Here I replaced \"None\" value with better understandable terms in both  \"Age_60_above\" and \"Sex\" column."
   ]
  },
  {
   "cell_type": "code",
   "execution_count": 161,
   "id": "d8128ec9",
   "metadata": {},
   "outputs": [],
   "source": [
    "columns=[\"Cough_symptoms\",\"Fever\",\"Sore_throat\",\"Shortness_of_breath\",\"Headache\"]\n",
    "covid[columns]=covid[columns].replace(\"None\",np.NaN)"
   ]
  },
  {
   "cell_type": "markdown",
   "id": "452f0dd8",
   "metadata": {},
   "source": [
    "#### <font color = 'Yellow'>---->> Here I replaced \"None\" value to \"null\" values with the help of null function for those above mentioned columns."
   ]
  },
  {
   "cell_type": "code",
   "execution_count": 162,
   "id": "e0e9622a",
   "metadata": {},
   "outputs": [
    {
     "data": {
      "text/plain": [
       "Ind_ID                   0\n",
       "Test_date                0\n",
       "Cough_symptoms         252\n",
       "Fever                  252\n",
       "Sore_throat              1\n",
       "Shortness_of_breath      1\n",
       "Headache                 1\n",
       "Age_60_above             0\n",
       "Sex                      0\n",
       "Known_contact            0\n",
       "Corona                   0\n",
       "dtype: int64"
      ]
     },
     "execution_count": 162,
     "metadata": {},
     "output_type": "execute_result"
    }
   ],
   "source": [
    "covid.isnull().sum()"
   ]
  },
  {
   "cell_type": "markdown",
   "id": "c0447053",
   "metadata": {},
   "source": [
    "#### <font color = 'Orange'>--- Exploring Missing Values Through Visualization ---"
   ]
  },
  {
   "cell_type": "code",
   "execution_count": 163,
   "id": "e387888d",
   "metadata": {
    "scrolled": true
   },
   "outputs": [
    {
     "data": {
      "text/plain": [
       "<Axes: >"
      ]
     },
     "execution_count": 163,
     "metadata": {},
     "output_type": "execute_result"
    },
    {
     "data": {
      "image/png": "[encoded data removed]",
      "text/plain": [
       "<Figure size 2500x1000 with 3 Axes>"
      ]
     },
     "metadata": {},
     "output_type": "display_data"
    }
   ],
   "source": [
    "import missingno as msno\n",
    "msno.bar(covid)"
   ]
  },
  {
   "cell_type": "markdown",
   "id": "ff1514ea",
   "metadata": {},
   "source": [
    "#### <font color = 'Yellow'>---->> Here we can see the null values present in whole \"covid\" Dataframe with the help of Visualization."
   ]
  },
  {
   "cell_type": "markdown",
   "id": "3df3c319",
   "metadata": {},
   "source": [
    "#### <font color = 'Orange'>---- Dealing With Missing Values ----"
   ]
  },
  {
   "cell_type": "markdown",
   "id": "bca268fb",
   "metadata": {},
   "source": [
    "#### <font color = 'White'>---->> Here in these three columns : \"Sore_throat\",\"Shortness_of_breath\",\"Headache\" have only one missing value each. So here i am going to drop those."
   ]
  },
  {
   "cell_type": "code",
   "execution_count": 164,
   "id": "59c96319",
   "metadata": {},
   "outputs": [],
   "source": [
    "col=[\"Sore_throat\",\"Shortness_of_breath\",\"Headache\"]\n",
    "covid=covid.dropna(subset=col)"
   ]
  },
  {
   "cell_type": "markdown",
   "id": "09f81a1d",
   "metadata": {},
   "source": [
    "#### <font color = 'White'>---->> Now in \"Cough_symptoms\" and \"Fever\" columns there are few values are null. So here I am going to fill these values with \"MODE-Imputation\" process."
   ]
  },
  {
   "cell_type": "code",
   "execution_count": 168,
   "id": "9e959c93",
   "metadata": {},
   "outputs": [],
   "source": [
    "covid[\"Cough_symptoms\"].fillna(covid[\"Cough_symptoms\"].mode()[0], inplace=True)\n",
    "covid[\"Fever\"].fillna(covid[\"Fever\"].mode()[0], inplace=True)"
   ]
  },
  {
   "cell_type": "code",
   "execution_count": 169,
   "id": "62fbe312",
   "metadata": {},
   "outputs": [
    {
     "data": {
      "text/plain": [
       "Ind_ID                 0\n",
       "Test_date              0\n",
       "Cough_symptoms         0\n",
       "Fever                  0\n",
       "Sore_throat            0\n",
       "Shortness_of_breath    0\n",
       "Headache               0\n",
       "Age_60_above           0\n",
       "Sex                    0\n",
       "Known_contact          0\n",
       "Corona                 0\n",
       "dtype: int64"
      ]
     },
     "execution_count": 169,
     "metadata": {},
     "output_type": "execute_result"
    }
   ],
   "source": [
    "covid.isnull().sum()"
   ]
  },
  {
   "cell_type": "code",
   "execution_count": 170,
   "id": "29486bd6",
   "metadata": {},
   "outputs": [
    {
     "data": {
      "text/html": [
       "<div>\n",
       "<style scoped>\n",
       "    .dataframe tbody tr th:only-of-type {\n",
       "        vertical-align: middle;\n",
       "    }\n",
       "\n",
       "    .dataframe tbody tr th {\n",
       "        vertical-align: top;\n",
       "    }\n",
       "\n",
       "    .dataframe thead th {\n",
       "        text-align: right;\n",
       "    }\n",
       "</style>\n",
       "<table border=\"1\" class=\"dataframe\">\n",
       "  <thead>\n",
       "    <tr style=\"text-align: right;\">\n",
       "      <th></th>\n",
       "      <th>Ind_ID</th>\n",
       "      <th>Test_date</th>\n",
       "      <th>Cough_symptoms</th>\n",
       "      <th>Fever</th>\n",
       "      <th>Sore_throat</th>\n",
       "      <th>Shortness_of_breath</th>\n",
       "      <th>Headache</th>\n",
       "      <th>Age_60_above</th>\n",
       "      <th>Sex</th>\n",
       "      <th>Known_contact</th>\n",
       "      <th>Corona</th>\n",
       "    </tr>\n",
       "  </thead>\n",
       "  <tbody>\n",
       "    <tr>\n",
       "      <th>0</th>\n",
       "      <td>1</td>\n",
       "      <td>11-03-2020</td>\n",
       "      <td>TRUE</td>\n",
       "      <td>FALSE</td>\n",
       "      <td>TRUE</td>\n",
       "      <td>FALSE</td>\n",
       "      <td>FALSE</td>\n",
       "      <td>Not_known</td>\n",
       "      <td>Other</td>\n",
       "      <td>Abroad</td>\n",
       "      <td>negative</td>\n",
       "    </tr>\n",
       "    <tr>\n",
       "      <th>1</th>\n",
       "      <td>2</td>\n",
       "      <td>11-03-2020</td>\n",
       "      <td>FALSE</td>\n",
       "      <td>TRUE</td>\n",
       "      <td>FALSE</td>\n",
       "      <td>FALSE</td>\n",
       "      <td>FALSE</td>\n",
       "      <td>Not_known</td>\n",
       "      <td>Other</td>\n",
       "      <td>Abroad</td>\n",
       "      <td>positive</td>\n",
       "    </tr>\n",
       "    <tr>\n",
       "      <th>2</th>\n",
       "      <td>3</td>\n",
       "      <td>11-03-2020</td>\n",
       "      <td>FALSE</td>\n",
       "      <td>TRUE</td>\n",
       "      <td>FALSE</td>\n",
       "      <td>FALSE</td>\n",
       "      <td>FALSE</td>\n",
       "      <td>Not_known</td>\n",
       "      <td>Other</td>\n",
       "      <td>Abroad</td>\n",
       "      <td>positive</td>\n",
       "    </tr>\n",
       "    <tr>\n",
       "      <th>3</th>\n",
       "      <td>4</td>\n",
       "      <td>11-03-2020</td>\n",
       "      <td>TRUE</td>\n",
       "      <td>FALSE</td>\n",
       "      <td>FALSE</td>\n",
       "      <td>FALSE</td>\n",
       "      <td>FALSE</td>\n",
       "      <td>Not_known</td>\n",
       "      <td>Other</td>\n",
       "      <td>Abroad</td>\n",
       "      <td>negative</td>\n",
       "    </tr>\n",
       "    <tr>\n",
       "      <th>4</th>\n",
       "      <td>5</td>\n",
       "      <td>11-03-2020</td>\n",
       "      <td>TRUE</td>\n",
       "      <td>FALSE</td>\n",
       "      <td>FALSE</td>\n",
       "      <td>FALSE</td>\n",
       "      <td>FALSE</td>\n",
       "      <td>Not_known</td>\n",
       "      <td>Other</td>\n",
       "      <td>Contact with confirmed</td>\n",
       "      <td>negative</td>\n",
       "    </tr>\n",
       "  </tbody>\n",
       "</table>\n",
       "</div>"
      ],
      "text/plain": [
       "   Ind_ID   Test_date Cough_symptoms  Fever Sore_throat Shortness_of_breath  \\\n",
       "0       1  11-03-2020           TRUE  FALSE        TRUE               FALSE   \n",
       "1       2  11-03-2020          FALSE   TRUE       FALSE               FALSE   \n",
       "2       3  11-03-2020          FALSE   TRUE       FALSE               FALSE   \n",
       "3       4  11-03-2020           TRUE  FALSE       FALSE               FALSE   \n",
       "4       5  11-03-2020           TRUE  FALSE       FALSE               FALSE   \n",
       "\n",
       "  Headache Age_60_above    Sex           Known_contact    Corona  \n",
       "0    FALSE    Not_known  Other                  Abroad  negative  \n",
       "1    FALSE    Not_known  Other                  Abroad  positive  \n",
       "2    FALSE    Not_known  Other                  Abroad  positive  \n",
       "3    FALSE    Not_known  Other                  Abroad  negative  \n",
       "4    FALSE    Not_known  Other  Contact with confirmed  negative  "
      ]
     },
     "execution_count": 170,
     "metadata": {},
     "output_type": "execute_result"
    }
   ],
   "source": [
    "covid.head()"
   ]
  },
  {
   "cell_type": "code",
   "execution_count": 171,
   "id": "d5942988",
   "metadata": {},
   "outputs": [],
   "source": [
    "#### Saving The Latest Optimized Dataframe to a CSV File ####\n",
    "cov_data=covid.to_csv(\"cleaned_covid_data.csv\")"
   ]
  },
  {
   "cell_type": "code",
   "execution_count": 3,
   "id": "98355111",
   "metadata": {},
   "outputs": [
    {
     "data": {
      "text/html": [
       "<div>\n",
       "<style scoped>\n",
       "    .dataframe tbody tr th:only-of-type {\n",
       "        vertical-align: middle;\n",
       "    }\n",
       "\n",
       "    .dataframe tbody tr th {\n",
       "        vertical-align: top;\n",
       "    }\n",
       "\n",
       "    .dataframe thead th {\n",
       "        text-align: right;\n",
       "    }\n",
       "</style>\n",
       "<table border=\"1\" class=\"dataframe\">\n",
       "  <thead>\n",
       "    <tr style=\"text-align: right;\">\n",
       "      <th></th>\n",
       "      <th>Unnamed: 0</th>\n",
       "      <th>Ind_ID</th>\n",
       "      <th>Test_date</th>\n",
       "      <th>Cough_symptoms</th>\n",
       "      <th>Fever</th>\n",
       "      <th>Sore_throat</th>\n",
       "      <th>Shortness_of_breath</th>\n",
       "      <th>Headache</th>\n",
       "      <th>Age_60_above</th>\n",
       "      <th>Sex</th>\n",
       "      <th>Known_contact</th>\n",
       "      <th>Corona</th>\n",
       "    </tr>\n",
       "  </thead>\n",
       "  <tbody>\n",
       "    <tr>\n",
       "      <th>0</th>\n",
       "      <td>0</td>\n",
       "      <td>1</td>\n",
       "      <td>11-03-2020</td>\n",
       "      <td>True</td>\n",
       "      <td>False</td>\n",
       "      <td>True</td>\n",
       "      <td>False</td>\n",
       "      <td>False</td>\n",
       "      <td>Not_known</td>\n",
       "      <td>Other</td>\n",
       "      <td>Abroad</td>\n",
       "      <td>negative</td>\n",
       "    </tr>\n",
       "    <tr>\n",
       "      <th>1</th>\n",
       "      <td>1</td>\n",
       "      <td>2</td>\n",
       "      <td>11-03-2020</td>\n",
       "      <td>False</td>\n",
       "      <td>True</td>\n",
       "      <td>False</td>\n",
       "      <td>False</td>\n",
       "      <td>False</td>\n",
       "      <td>Not_known</td>\n",
       "      <td>Other</td>\n",
       "      <td>Abroad</td>\n",
       "      <td>positive</td>\n",
       "    </tr>\n",
       "    <tr>\n",
       "      <th>2</th>\n",
       "      <td>2</td>\n",
       "      <td>3</td>\n",
       "      <td>11-03-2020</td>\n",
       "      <td>False</td>\n",
       "      <td>True</td>\n",
       "      <td>False</td>\n",
       "      <td>False</td>\n",
       "      <td>False</td>\n",
       "      <td>Not_known</td>\n",
       "      <td>Other</td>\n",
       "      <td>Abroad</td>\n",
       "      <td>positive</td>\n",
       "    </tr>\n",
       "    <tr>\n",
       "      <th>3</th>\n",
       "      <td>3</td>\n",
       "      <td>4</td>\n",
       "      <td>11-03-2020</td>\n",
       "      <td>True</td>\n",
       "      <td>False</td>\n",
       "      <td>False</td>\n",
       "      <td>False</td>\n",
       "      <td>False</td>\n",
       "      <td>Not_known</td>\n",
       "      <td>Other</td>\n",
       "      <td>Abroad</td>\n",
       "      <td>negative</td>\n",
       "    </tr>\n",
       "    <tr>\n",
       "      <th>4</th>\n",
       "      <td>4</td>\n",
       "      <td>5</td>\n",
       "      <td>11-03-2020</td>\n",
       "      <td>True</td>\n",
       "      <td>False</td>\n",
       "      <td>False</td>\n",
       "      <td>False</td>\n",
       "      <td>False</td>\n",
       "      <td>Not_known</td>\n",
       "      <td>Other</td>\n",
       "      <td>Contact with confirmed</td>\n",
       "      <td>negative</td>\n",
       "    </tr>\n",
       "  </tbody>\n",
       "</table>\n",
       "</div>"
      ],
      "text/plain": [
       "   Unnamed: 0  Ind_ID   Test_date  Cough_symptoms  Fever  Sore_throat  \\\n",
       "0           0       1  11-03-2020            True  False         True   \n",
       "1           1       2  11-03-2020           False   True        False   \n",
       "2           2       3  11-03-2020           False   True        False   \n",
       "3           3       4  11-03-2020            True  False        False   \n",
       "4           4       5  11-03-2020            True  False        False   \n",
       "\n",
       "   Shortness_of_breath  Headache Age_60_above    Sex           Known_contact  \\\n",
       "0                False     False    Not_known  Other                  Abroad   \n",
       "1                False     False    Not_known  Other                  Abroad   \n",
       "2                False     False    Not_known  Other                  Abroad   \n",
       "3                False     False    Not_known  Other                  Abroad   \n",
       "4                False     False    Not_known  Other  Contact with confirmed   \n",
       "\n",
       "     Corona  \n",
       "0  negative  \n",
       "1  positive  \n",
       "2  positive  \n",
       "3  negative  \n",
       "4  negative  "
      ]
     },
     "execution_count": 3,
     "metadata": {},
     "output_type": "execute_result"
    }
   ],
   "source": [
    "cov_data=pd.read_csv(\"cleaned_covid_data.csv\")\n",
    "cov_data.head()"
   ]
  },
  {
   "cell_type": "code",
   "execution_count": 4,
   "id": "5850914b",
   "metadata": {},
   "outputs": [
    {
     "data": {
      "text/html": [
       "<div>\n",
       "<style scoped>\n",
       "    .dataframe tbody tr th:only-of-type {\n",
       "        vertical-align: middle;\n",
       "    }\n",
       "\n",
       "    .dataframe tbody tr th {\n",
       "        vertical-align: top;\n",
       "    }\n",
       "\n",
       "    .dataframe thead th {\n",
       "        text-align: right;\n",
       "    }\n",
       "</style>\n",
       "<table border=\"1\" class=\"dataframe\">\n",
       "  <thead>\n",
       "    <tr style=\"text-align: right;\">\n",
       "      <th></th>\n",
       "      <th>Ind_ID</th>\n",
       "      <th>Test_date</th>\n",
       "      <th>Cough_symptoms</th>\n",
       "      <th>Fever</th>\n",
       "      <th>Sore_throat</th>\n",
       "      <th>Shortness_of_breath</th>\n",
       "      <th>Headache</th>\n",
       "      <th>Age_60_above</th>\n",
       "      <th>Sex</th>\n",
       "      <th>Known_contact</th>\n",
       "      <th>Corona</th>\n",
       "    </tr>\n",
       "  </thead>\n",
       "  <tbody>\n",
       "    <tr>\n",
       "      <th>0</th>\n",
       "      <td>1</td>\n",
       "      <td>11-03-2020</td>\n",
       "      <td>True</td>\n",
       "      <td>False</td>\n",
       "      <td>True</td>\n",
       "      <td>False</td>\n",
       "      <td>False</td>\n",
       "      <td>Not_known</td>\n",
       "      <td>Other</td>\n",
       "      <td>Abroad</td>\n",
       "      <td>negative</td>\n",
       "    </tr>\n",
       "    <tr>\n",
       "      <th>1</th>\n",
       "      <td>2</td>\n",
       "      <td>11-03-2020</td>\n",
       "      <td>False</td>\n",
       "      <td>True</td>\n",
       "      <td>False</td>\n",
       "      <td>False</td>\n",
       "      <td>False</td>\n",
       "      <td>Not_known</td>\n",
       "      <td>Other</td>\n",
       "      <td>Abroad</td>\n",
       "      <td>positive</td>\n",
       "    </tr>\n",
       "    <tr>\n",
       "      <th>2</th>\n",
       "      <td>3</td>\n",
       "      <td>11-03-2020</td>\n",
       "      <td>False</td>\n",
       "      <td>True</td>\n",
       "      <td>False</td>\n",
       "      <td>False</td>\n",
       "      <td>False</td>\n",
       "      <td>Not_known</td>\n",
       "      <td>Other</td>\n",
       "      <td>Abroad</td>\n",
       "      <td>positive</td>\n",
       "    </tr>\n",
       "    <tr>\n",
       "      <th>3</th>\n",
       "      <td>4</td>\n",
       "      <td>11-03-2020</td>\n",
       "      <td>True</td>\n",
       "      <td>False</td>\n",
       "      <td>False</td>\n",
       "      <td>False</td>\n",
       "      <td>False</td>\n",
       "      <td>Not_known</td>\n",
       "      <td>Other</td>\n",
       "      <td>Abroad</td>\n",
       "      <td>negative</td>\n",
       "    </tr>\n",
       "    <tr>\n",
       "      <th>4</th>\n",
       "      <td>5</td>\n",
       "      <td>11-03-2020</td>\n",
       "      <td>True</td>\n",
       "      <td>False</td>\n",
       "      <td>False</td>\n",
       "      <td>False</td>\n",
       "      <td>False</td>\n",
       "      <td>Not_known</td>\n",
       "      <td>Other</td>\n",
       "      <td>Contact with confirmed</td>\n",
       "      <td>negative</td>\n",
       "    </tr>\n",
       "  </tbody>\n",
       "</table>\n",
       "</div>"
      ],
      "text/plain": [
       "   Ind_ID   Test_date  Cough_symptoms  Fever  Sore_throat  \\\n",
       "0       1  11-03-2020            True  False         True   \n",
       "1       2  11-03-2020           False   True        False   \n",
       "2       3  11-03-2020           False   True        False   \n",
       "3       4  11-03-2020            True  False        False   \n",
       "4       5  11-03-2020            True  False        False   \n",
       "\n",
       "   Shortness_of_breath  Headache Age_60_above    Sex           Known_contact  \\\n",
       "0                False     False    Not_known  Other                  Abroad   \n",
       "1                False     False    Not_known  Other                  Abroad   \n",
       "2                False     False    Not_known  Other                  Abroad   \n",
       "3                False     False    Not_known  Other                  Abroad   \n",
       "4                False     False    Not_known  Other  Contact with confirmed   \n",
       "\n",
       "     Corona  \n",
       "0  negative  \n",
       "1  positive  \n",
       "2  positive  \n",
       "3  negative  \n",
       "4  negative  "
      ]
     },
     "execution_count": 4,
     "metadata": {},
     "output_type": "execute_result"
    }
   ],
   "source": [
    "cov_data=cov_data.drop(columns=[\"Unnamed: 0\"],axis=1)\n",
    "cov_data.head()"
   ]
  },
  {
   "cell_type": "code",
   "execution_count": 5,
   "id": "7c946ff0",
   "metadata": {},
   "outputs": [
    {
     "name": "stdout",
     "output_type": "stream",
     "text": [
      "Chi-squared statistic: 453.3716188822091\n",
      "p-value: 5.4534616863064257e-92\n",
      "Reject the null hypothesis: There is a significant association between the variables.\n"
     ]
    }
   ],
   "source": [
    "import scipy.stats as stats\n",
    "contingency_tbl = pd.crosstab(index=cov_data[\"Sex\"], columns=[cov_data[\"Corona\"]],margins=True)\n",
    "chi2, p, _,_ = stats.chi2_contingency(contingency_tbl)\n",
    "print(\"Chi-squared statistic:\", chi2)\n",
    "print(\"p-value:\", p)\n",
    "if p < 0.05:\n",
    "    print(\"Reject the null hypothesis: There is a significant association between the variables.\")\n",
    "else:\n",
    "    print(\"Fail to reject the null hypothesis: There is no significant association between the variables.\")"
   ]
  },
  {
   "cell_type": "markdown",
   "id": "5cc9a2e7",
   "metadata": {},
   "source": [
    "#### <font color = 'Yellow'>---->> When Chi-squared test performed between each input column with the output column it is found that only sex column rejected the null hypothesis and doesnot have much impact on output column."
   ]
  },
  {
   "cell_type": "markdown",
   "id": "d1804080",
   "metadata": {},
   "source": [
    "#### <font color = 'Orange'>---- Features Encoding (Prepearing The Dataset for ML Modelling) ----"
   ]
  },
  {
   "cell_type": "markdown",
   "id": "75711f9a",
   "metadata": {},
   "source": [
    "#### <font color = 'Orange'>---- First Exploring All The Categorical Columns and Their Values ----"
   ]
  },
  {
   "cell_type": "code",
   "execution_count": 180,
   "id": "f8fc63ef",
   "metadata": {},
   "outputs": [
    {
     "data": {
      "text/plain": [
       "array([ True, False])"
      ]
     },
     "execution_count": 180,
     "metadata": {},
     "output_type": "execute_result"
    }
   ],
   "source": [
    "cov_data[\"Cough_symptoms\"].unique()"
   ]
  },
  {
   "cell_type": "code",
   "execution_count": 181,
   "id": "4929d85e",
   "metadata": {},
   "outputs": [
    {
     "data": {
      "text/plain": [
       "array([False,  True])"
      ]
     },
     "execution_count": 181,
     "metadata": {},
     "output_type": "execute_result"
    }
   ],
   "source": [
    "cov_data[\"Fever\"].unique()"
   ]
  },
  {
   "cell_type": "code",
   "execution_count": 182,
   "id": "9c92df8d",
   "metadata": {},
   "outputs": [
    {
     "data": {
      "text/plain": [
       "array([ True, False])"
      ]
     },
     "execution_count": 182,
     "metadata": {},
     "output_type": "execute_result"
    }
   ],
   "source": [
    "cov_data[\"Sore_throat\"].unique()"
   ]
  },
  {
   "cell_type": "code",
   "execution_count": 183,
   "id": "cfdc9e46",
   "metadata": {},
   "outputs": [
    {
     "data": {
      "text/plain": [
       "array([False,  True])"
      ]
     },
     "execution_count": 183,
     "metadata": {},
     "output_type": "execute_result"
    }
   ],
   "source": [
    "cov_data[\"Shortness_of_breath\"].unique()"
   ]
  },
  {
   "cell_type": "code",
   "execution_count": 184,
   "id": "7dfb8aaf",
   "metadata": {},
   "outputs": [
    {
     "data": {
      "text/plain": [
       "array([False,  True])"
      ]
     },
     "execution_count": 184,
     "metadata": {},
     "output_type": "execute_result"
    }
   ],
   "source": [
    "cov_data[\"Headache\"].unique()"
   ]
  },
  {
   "cell_type": "code",
   "execution_count": 176,
   "id": "39da771c",
   "metadata": {},
   "outputs": [
    {
     "data": {
      "text/plain": [
       "array(['Not_known', 'No', 'Yes'], dtype=object)"
      ]
     },
     "execution_count": 176,
     "metadata": {},
     "output_type": "execute_result"
    }
   ],
   "source": [
    "cov_data[\"Age_60_above\"].unique()"
   ]
  },
  {
   "cell_type": "code",
   "execution_count": 177,
   "id": "e333861d",
   "metadata": {},
   "outputs": [
    {
     "data": {
      "text/plain": [
       "array(['Other', 'male', 'female'], dtype=object)"
      ]
     },
     "execution_count": 177,
     "metadata": {},
     "output_type": "execute_result"
    }
   ],
   "source": [
    "cov_data[\"Sex\"].unique()"
   ]
  },
  {
   "cell_type": "code",
   "execution_count": 178,
   "id": "e8fbc657",
   "metadata": {},
   "outputs": [
    {
     "data": {
      "text/plain": [
       "array(['Abroad', 'Contact with confirmed', 'Other'], dtype=object)"
      ]
     },
     "execution_count": 178,
     "metadata": {},
     "output_type": "execute_result"
    }
   ],
   "source": [
    "cov_data[\"Known_contact\"].unique()"
   ]
  },
  {
   "cell_type": "code",
   "execution_count": 179,
   "id": "4d9219b8",
   "metadata": {},
   "outputs": [
    {
     "data": {
      "text/plain": [
       "array(['negative', 'positive', 'report_waiting'], dtype=object)"
      ]
     },
     "execution_count": 179,
     "metadata": {},
     "output_type": "execute_result"
    }
   ],
   "source": [
    "cov_data[\"Corona\"].unique()"
   ]
  },
  {
   "cell_type": "markdown",
   "id": "e7f36d98",
   "metadata": {},
   "source": [
    "#### <font color = 'Orange'>---- Encoding All The Columns Using Label Encoder ----"
   ]
  },
  {
   "cell_type": "code",
   "execution_count": 6,
   "id": "9710e082",
   "metadata": {},
   "outputs": [],
   "source": [
    "from sklearn.preprocessing import LabelEncoder\n",
    "le=LabelEncoder()\n",
    "cov_data[\"Cough_symptoms\"]=le.fit_transform(cov_data[\"Cough_symptoms\"])\n",
    "cov_data[\"Fever\"]=le.fit_transform(cov_data[\"Fever\"])\n",
    "cov_data[\"Sore_throat\"]=le.fit_transform(cov_data[\"Sore_throat\"])\n",
    "cov_data[\"Shortness_of_breath\"]=le.fit_transform(cov_data[\"Shortness_of_breath\"])\n",
    "cov_data[\"Headache\"]=le.fit_transform(cov_data[\"Headache\"])\n",
    "cov_data[\"Age_60_above\"]=le.fit_transform(cov_data[\"Age_60_above\"])\n",
    "cov_data[\"Sex\"]=le.fit_transform(cov_data[\"Sex\"])\n",
    "cov_data[\"Known_contact\"]=le.fit_transform(cov_data[\"Known_contact\"])\n",
    "cov_data[\"Corona\"]=le.fit_transform(cov_data[\"Corona\"])"
   ]
  },
  {
   "cell_type": "code",
   "execution_count": 7,
   "id": "65b606c2",
   "metadata": {},
   "outputs": [
    {
     "data": {
      "text/html": [
       "<div>\n",
       "<style scoped>\n",
       "    .dataframe tbody tr th:only-of-type {\n",
       "        vertical-align: middle;\n",
       "    }\n",
       "\n",
       "    .dataframe tbody tr th {\n",
       "        vertical-align: top;\n",
       "    }\n",
       "\n",
       "    .dataframe thead th {\n",
       "        text-align: right;\n",
       "    }\n",
       "</style>\n",
       "<table border=\"1\" class=\"dataframe\">\n",
       "  <thead>\n",
       "    <tr style=\"text-align: right;\">\n",
       "      <th></th>\n",
       "      <th>Ind_ID</th>\n",
       "      <th>Test_date</th>\n",
       "      <th>Cough_symptoms</th>\n",
       "      <th>Fever</th>\n",
       "      <th>Sore_throat</th>\n",
       "      <th>Shortness_of_breath</th>\n",
       "      <th>Headache</th>\n",
       "      <th>Age_60_above</th>\n",
       "      <th>Sex</th>\n",
       "      <th>Known_contact</th>\n",
       "      <th>Corona</th>\n",
       "    </tr>\n",
       "  </thead>\n",
       "  <tbody>\n",
       "    <tr>\n",
       "      <th>0</th>\n",
       "      <td>1</td>\n",
       "      <td>11-03-2020</td>\n",
       "      <td>1</td>\n",
       "      <td>0</td>\n",
       "      <td>1</td>\n",
       "      <td>0</td>\n",
       "      <td>0</td>\n",
       "      <td>1</td>\n",
       "      <td>0</td>\n",
       "      <td>0</td>\n",
       "      <td>0</td>\n",
       "    </tr>\n",
       "    <tr>\n",
       "      <th>1</th>\n",
       "      <td>2</td>\n",
       "      <td>11-03-2020</td>\n",
       "      <td>0</td>\n",
       "      <td>1</td>\n",
       "      <td>0</td>\n",
       "      <td>0</td>\n",
       "      <td>0</td>\n",
       "      <td>1</td>\n",
       "      <td>0</td>\n",
       "      <td>0</td>\n",
       "      <td>1</td>\n",
       "    </tr>\n",
       "    <tr>\n",
       "      <th>2</th>\n",
       "      <td>3</td>\n",
       "      <td>11-03-2020</td>\n",
       "      <td>0</td>\n",
       "      <td>1</td>\n",
       "      <td>0</td>\n",
       "      <td>0</td>\n",
       "      <td>0</td>\n",
       "      <td>1</td>\n",
       "      <td>0</td>\n",
       "      <td>0</td>\n",
       "      <td>1</td>\n",
       "    </tr>\n",
       "    <tr>\n",
       "      <th>3</th>\n",
       "      <td>4</td>\n",
       "      <td>11-03-2020</td>\n",
       "      <td>1</td>\n",
       "      <td>0</td>\n",
       "      <td>0</td>\n",
       "      <td>0</td>\n",
       "      <td>0</td>\n",
       "      <td>1</td>\n",
       "      <td>0</td>\n",
       "      <td>0</td>\n",
       "      <td>0</td>\n",
       "    </tr>\n",
       "    <tr>\n",
       "      <th>4</th>\n",
       "      <td>5</td>\n",
       "      <td>11-03-2020</td>\n",
       "      <td>1</td>\n",
       "      <td>0</td>\n",
       "      <td>0</td>\n",
       "      <td>0</td>\n",
       "      <td>0</td>\n",
       "      <td>1</td>\n",
       "      <td>0</td>\n",
       "      <td>1</td>\n",
       "      <td>0</td>\n",
       "    </tr>\n",
       "    <tr>\n",
       "      <th>...</th>\n",
       "      <td>...</td>\n",
       "      <td>...</td>\n",
       "      <td>...</td>\n",
       "      <td>...</td>\n",
       "      <td>...</td>\n",
       "      <td>...</td>\n",
       "      <td>...</td>\n",
       "      <td>...</td>\n",
       "      <td>...</td>\n",
       "      <td>...</td>\n",
       "      <td>...</td>\n",
       "    </tr>\n",
       "    <tr>\n",
       "      <th>278842</th>\n",
       "      <td>278844</td>\n",
       "      <td>30-04-2020</td>\n",
       "      <td>0</td>\n",
       "      <td>0</td>\n",
       "      <td>0</td>\n",
       "      <td>0</td>\n",
       "      <td>0</td>\n",
       "      <td>1</td>\n",
       "      <td>2</td>\n",
       "      <td>2</td>\n",
       "      <td>1</td>\n",
       "    </tr>\n",
       "    <tr>\n",
       "      <th>278843</th>\n",
       "      <td>278845</td>\n",
       "      <td>30-04-2020</td>\n",
       "      <td>0</td>\n",
       "      <td>0</td>\n",
       "      <td>0</td>\n",
       "      <td>0</td>\n",
       "      <td>0</td>\n",
       "      <td>1</td>\n",
       "      <td>1</td>\n",
       "      <td>2</td>\n",
       "      <td>0</td>\n",
       "    </tr>\n",
       "    <tr>\n",
       "      <th>278844</th>\n",
       "      <td>278846</td>\n",
       "      <td>30-04-2020</td>\n",
       "      <td>0</td>\n",
       "      <td>0</td>\n",
       "      <td>0</td>\n",
       "      <td>0</td>\n",
       "      <td>0</td>\n",
       "      <td>1</td>\n",
       "      <td>2</td>\n",
       "      <td>2</td>\n",
       "      <td>0</td>\n",
       "    </tr>\n",
       "    <tr>\n",
       "      <th>278845</th>\n",
       "      <td>278847</td>\n",
       "      <td>30-04-2020</td>\n",
       "      <td>0</td>\n",
       "      <td>0</td>\n",
       "      <td>0</td>\n",
       "      <td>0</td>\n",
       "      <td>0</td>\n",
       "      <td>1</td>\n",
       "      <td>2</td>\n",
       "      <td>2</td>\n",
       "      <td>0</td>\n",
       "    </tr>\n",
       "    <tr>\n",
       "      <th>278846</th>\n",
       "      <td>278848</td>\n",
       "      <td>30-04-2020</td>\n",
       "      <td>0</td>\n",
       "      <td>0</td>\n",
       "      <td>0</td>\n",
       "      <td>0</td>\n",
       "      <td>0</td>\n",
       "      <td>1</td>\n",
       "      <td>1</td>\n",
       "      <td>2</td>\n",
       "      <td>0</td>\n",
       "    </tr>\n",
       "  </tbody>\n",
       "</table>\n",
       "<p>278847 rows × 11 columns</p>\n",
       "</div>"
      ],
      "text/plain": [
       "        Ind_ID   Test_date  Cough_symptoms  Fever  Sore_throat  \\\n",
       "0            1  11-03-2020               1      0            1   \n",
       "1            2  11-03-2020               0      1            0   \n",
       "2            3  11-03-2020               0      1            0   \n",
       "3            4  11-03-2020               1      0            0   \n",
       "4            5  11-03-2020               1      0            0   \n",
       "...        ...         ...             ...    ...          ...   \n",
       "278842  278844  30-04-2020               0      0            0   \n",
       "278843  278845  30-04-2020               0      0            0   \n",
       "278844  278846  30-04-2020               0      0            0   \n",
       "278845  278847  30-04-2020               0      0            0   \n",
       "278846  278848  30-04-2020               0      0            0   \n",
       "\n",
       "        Shortness_of_breath  Headache  Age_60_above  Sex  Known_contact  \\\n",
       "0                         0         0             1    0              0   \n",
       "1                         0         0             1    0              0   \n",
       "2                         0         0             1    0              0   \n",
       "3                         0         0             1    0              0   \n",
       "4                         0         0             1    0              1   \n",
       "...                     ...       ...           ...  ...            ...   \n",
       "278842                    0         0             1    2              2   \n",
       "278843                    0         0             1    1              2   \n",
       "278844                    0         0             1    2              2   \n",
       "278845                    0         0             1    2              2   \n",
       "278846                    0         0             1    1              2   \n",
       "\n",
       "        Corona  \n",
       "0            0  \n",
       "1            1  \n",
       "2            1  \n",
       "3            0  \n",
       "4            0  \n",
       "...        ...  \n",
       "278842       1  \n",
       "278843       0  \n",
       "278844       0  \n",
       "278845       0  \n",
       "278846       0  \n",
       "\n",
       "[278847 rows x 11 columns]"
      ]
     },
     "execution_count": 7,
     "metadata": {},
     "output_type": "execute_result"
    }
   ],
   "source": [
    "cov_data"
   ]
  },
  {
   "cell_type": "markdown",
   "id": "80a31091",
   "metadata": {},
   "source": [
    "#### <font color = 'Orange'>---- Checking Correlation between Features to Justify the Output Column ----"
   ]
  },
  {
   "cell_type": "code",
   "execution_count": 8,
   "id": "b07a9862",
   "metadata": {
    "scrolled": true
   },
   "outputs": [
    {
     "data": {
      "text/plain": [
       "<Axes: >"
      ]
     },
     "execution_count": 8,
     "metadata": {},
     "output_type": "execute_result"
    },
    {
     "data": {
      "image/png": "[encoded data removed]",
      "text/plain": [
       "<Figure size 1500x600 with 2 Axes>"
      ]
     },
     "metadata": {},
     "output_type": "display_data"
    }
   ],
   "source": [
    "plt.figure(figsize=(15,6))\n",
    "sns.heatmap(cov_data.corr(method=\"spearman\"),cmap=\"YlGnBu\",annot=True)"
   ]
  },
  {
   "cell_type": "code",
   "execution_count": 9,
   "id": "023e3b76",
   "metadata": {},
   "outputs": [],
   "source": [
    "cov_data.to_csv(\"ML_covid_data.csv\")"
   ]
  },
  {
   "cell_type": "markdown",
   "id": "2094972d",
   "metadata": {},
   "source": [
    "#### <font color = 'Yellow'>---->> All the Encoding of the features is finished here amd made the Dataframe ready and saved for applying ML Algorithms."
   ]
  },
  {
   "cell_type": "markdown",
   "id": "de35d167",
   "metadata": {},
   "source": [
    "### ----- Applying ML Algorithms -----"
   ]
  },
  {
   "cell_type": "code",
   "execution_count": 4,
   "id": "65207c8d",
   "metadata": {},
   "outputs": [
    {
     "data": {
      "text/html": [
       "<div>\n",
       "<style scoped>\n",
       "    .dataframe tbody tr th:only-of-type {\n",
       "        vertical-align: middle;\n",
       "    }\n",
       "\n",
       "    .dataframe tbody tr th {\n",
       "        vertical-align: top;\n",
       "    }\n",
       "\n",
       "    .dataframe thead th {\n",
       "        text-align: right;\n",
       "    }\n",
       "</style>\n",
       "<table border=\"1\" class=\"dataframe\">\n",
       "  <thead>\n",
       "    <tr style=\"text-align: right;\">\n",
       "      <th></th>\n",
       "      <th>Unnamed: 0</th>\n",
       "      <th>Ind_ID</th>\n",
       "      <th>Test_date</th>\n",
       "      <th>Cough_symptoms</th>\n",
       "      <th>Fever</th>\n",
       "      <th>Sore_throat</th>\n",
       "      <th>Shortness_of_breath</th>\n",
       "      <th>Headache</th>\n",
       "      <th>Age_60_above</th>\n",
       "      <th>Sex</th>\n",
       "      <th>Known_contact</th>\n",
       "      <th>Corona</th>\n",
       "    </tr>\n",
       "  </thead>\n",
       "  <tbody>\n",
       "    <tr>\n",
       "      <th>0</th>\n",
       "      <td>0</td>\n",
       "      <td>1</td>\n",
       "      <td>11-03-2020</td>\n",
       "      <td>1</td>\n",
       "      <td>0</td>\n",
       "      <td>1</td>\n",
       "      <td>0</td>\n",
       "      <td>0</td>\n",
       "      <td>1</td>\n",
       "      <td>0</td>\n",
       "      <td>0</td>\n",
       "      <td>0</td>\n",
       "    </tr>\n",
       "    <tr>\n",
       "      <th>1</th>\n",
       "      <td>1</td>\n",
       "      <td>2</td>\n",
       "      <td>11-03-2020</td>\n",
       "      <td>0</td>\n",
       "      <td>1</td>\n",
       "      <td>0</td>\n",
       "      <td>0</td>\n",
       "      <td>0</td>\n",
       "      <td>1</td>\n",
       "      <td>0</td>\n",
       "      <td>0</td>\n",
       "      <td>1</td>\n",
       "    </tr>\n",
       "    <tr>\n",
       "      <th>2</th>\n",
       "      <td>2</td>\n",
       "      <td>3</td>\n",
       "      <td>11-03-2020</td>\n",
       "      <td>0</td>\n",
       "      <td>1</td>\n",
       "      <td>0</td>\n",
       "      <td>0</td>\n",
       "      <td>0</td>\n",
       "      <td>1</td>\n",
       "      <td>0</td>\n",
       "      <td>0</td>\n",
       "      <td>1</td>\n",
       "    </tr>\n",
       "    <tr>\n",
       "      <th>3</th>\n",
       "      <td>3</td>\n",
       "      <td>4</td>\n",
       "      <td>11-03-2020</td>\n",
       "      <td>1</td>\n",
       "      <td>0</td>\n",
       "      <td>0</td>\n",
       "      <td>0</td>\n",
       "      <td>0</td>\n",
       "      <td>1</td>\n",
       "      <td>0</td>\n",
       "      <td>0</td>\n",
       "      <td>0</td>\n",
       "    </tr>\n",
       "    <tr>\n",
       "      <th>4</th>\n",
       "      <td>4</td>\n",
       "      <td>5</td>\n",
       "      <td>11-03-2020</td>\n",
       "      <td>1</td>\n",
       "      <td>0</td>\n",
       "      <td>0</td>\n",
       "      <td>0</td>\n",
       "      <td>0</td>\n",
       "      <td>1</td>\n",
       "      <td>0</td>\n",
       "      <td>1</td>\n",
       "      <td>0</td>\n",
       "    </tr>\n",
       "  </tbody>\n",
       "</table>\n",
       "</div>"
      ],
      "text/plain": [
       "   Unnamed: 0  Ind_ID   Test_date  Cough_symptoms  Fever  Sore_throat  \\\n",
       "0           0       1  11-03-2020               1      0            1   \n",
       "1           1       2  11-03-2020               0      1            0   \n",
       "2           2       3  11-03-2020               0      1            0   \n",
       "3           3       4  11-03-2020               1      0            0   \n",
       "4           4       5  11-03-2020               1      0            0   \n",
       "\n",
       "   Shortness_of_breath  Headache  Age_60_above  Sex  Known_contact  Corona  \n",
       "0                    0         0             1    0              0       0  \n",
       "1                    0         0             1    0              0       1  \n",
       "2                    0         0             1    0              0       1  \n",
       "3                    0         0             1    0              0       0  \n",
       "4                    0         0             1    0              1       0  "
      ]
     },
     "execution_count": 4,
     "metadata": {},
     "output_type": "execute_result"
    }
   ],
   "source": [
    "ml_cov=pd.read_csv(\"ML_covid_data.csv\")\n",
    "ml_cov.head()"
   ]
  },
  {
   "cell_type": "code",
   "execution_count": 5,
   "id": "ad1ab654",
   "metadata": {},
   "outputs": [
    {
     "data": {
      "text/html": [
       "<div>\n",
       "<style scoped>\n",
       "    .dataframe tbody tr th:only-of-type {\n",
       "        vertical-align: middle;\n",
       "    }\n",
       "\n",
       "    .dataframe tbody tr th {\n",
       "        vertical-align: top;\n",
       "    }\n",
       "\n",
       "    .dataframe thead th {\n",
       "        text-align: right;\n",
       "    }\n",
       "</style>\n",
       "<table border=\"1\" class=\"dataframe\">\n",
       "  <thead>\n",
       "    <tr style=\"text-align: right;\">\n",
       "      <th></th>\n",
       "      <th>Cough_symptoms</th>\n",
       "      <th>Fever</th>\n",
       "      <th>Sore_throat</th>\n",
       "      <th>Shortness_of_breath</th>\n",
       "      <th>Headache</th>\n",
       "      <th>Age_60_above</th>\n",
       "      <th>Sex</th>\n",
       "      <th>Known_contact</th>\n",
       "      <th>Corona</th>\n",
       "    </tr>\n",
       "  </thead>\n",
       "  <tbody>\n",
       "    <tr>\n",
       "      <th>0</th>\n",
       "      <td>1</td>\n",
       "      <td>0</td>\n",
       "      <td>1</td>\n",
       "      <td>0</td>\n",
       "      <td>0</td>\n",
       "      <td>1</td>\n",
       "      <td>0</td>\n",
       "      <td>0</td>\n",
       "      <td>0</td>\n",
       "    </tr>\n",
       "    <tr>\n",
       "      <th>1</th>\n",
       "      <td>0</td>\n",
       "      <td>1</td>\n",
       "      <td>0</td>\n",
       "      <td>0</td>\n",
       "      <td>0</td>\n",
       "      <td>1</td>\n",
       "      <td>0</td>\n",
       "      <td>0</td>\n",
       "      <td>1</td>\n",
       "    </tr>\n",
       "    <tr>\n",
       "      <th>2</th>\n",
       "      <td>0</td>\n",
       "      <td>1</td>\n",
       "      <td>0</td>\n",
       "      <td>0</td>\n",
       "      <td>0</td>\n",
       "      <td>1</td>\n",
       "      <td>0</td>\n",
       "      <td>0</td>\n",
       "      <td>1</td>\n",
       "    </tr>\n",
       "    <tr>\n",
       "      <th>3</th>\n",
       "      <td>1</td>\n",
       "      <td>0</td>\n",
       "      <td>0</td>\n",
       "      <td>0</td>\n",
       "      <td>0</td>\n",
       "      <td>1</td>\n",
       "      <td>0</td>\n",
       "      <td>0</td>\n",
       "      <td>0</td>\n",
       "    </tr>\n",
       "    <tr>\n",
       "      <th>4</th>\n",
       "      <td>1</td>\n",
       "      <td>0</td>\n",
       "      <td>0</td>\n",
       "      <td>0</td>\n",
       "      <td>0</td>\n",
       "      <td>1</td>\n",
       "      <td>0</td>\n",
       "      <td>1</td>\n",
       "      <td>0</td>\n",
       "    </tr>\n",
       "  </tbody>\n",
       "</table>\n",
       "</div>"
      ],
      "text/plain": [
       "   Cough_symptoms  Fever  Sore_throat  Shortness_of_breath  Headache  \\\n",
       "0               1      0            1                    0         0   \n",
       "1               0      1            0                    0         0   \n",
       "2               0      1            0                    0         0   \n",
       "3               1      0            0                    0         0   \n",
       "4               1      0            0                    0         0   \n",
       "\n",
       "   Age_60_above  Sex  Known_contact  Corona  \n",
       "0             1    0              0       0  \n",
       "1             1    0              0       1  \n",
       "2             1    0              0       1  \n",
       "3             1    0              0       0  \n",
       "4             1    0              1       0  "
      ]
     },
     "execution_count": 5,
     "metadata": {},
     "output_type": "execute_result"
    }
   ],
   "source": [
    "ml_cov.drop(columns=[\"Unnamed: 0\",\"Ind_ID\",\"Test_date\"],inplace=True)\n",
    "ml_cov.head()\n",
    "\n",
    "#### Here droping these unwanted columns from the dataset to perform smoothly in ML Algorithms. ####"
   ]
  },
  {
   "cell_type": "code",
   "execution_count": 6,
   "id": "55647299",
   "metadata": {},
   "outputs": [],
   "source": [
    "from sklearn.model_selection import train_test_split    #### For training and testings ####\n",
    "from sklearn.model_selection import ShuffleSplit    #### For Applying Cross validation ####\n",
    "from sklearn.model_selection import cross_val_score    #### For Checking Cross validation score ####"
   ]
  },
  {
   "cell_type": "code",
   "execution_count": 7,
   "id": "8f4bac1a",
   "metadata": {},
   "outputs": [],
   "source": [
    "X=ml_cov.drop(columns=[\"Corona\"])\n",
    "Y=ml_cov[\"Corona\"]"
   ]
  },
  {
   "cell_type": "code",
   "execution_count": 8,
   "id": "19d00cee",
   "metadata": {},
   "outputs": [],
   "source": [
    "X_train,X_test,Y_train,Y_test=train_test_split(X,Y,train_size=0.70,test_size=0.30,stratify=Y,\n",
    "                                              random_state=1500)"
   ]
  },
  {
   "cell_type": "code",
   "execution_count": 9,
   "id": "1c701109",
   "metadata": {},
   "outputs": [
    {
     "data": {
      "text/plain": [
       "((195192, 8), (83655, 8), (195192,), (83655,))"
      ]
     },
     "execution_count": 9,
     "metadata": {},
     "output_type": "execute_result"
    }
   ],
   "source": [
    "X_train.shape , X_test.shape , Y_train.shape , Y_test.shape"
   ]
  },
  {
   "cell_type": "markdown",
   "id": "2786642f",
   "metadata": {},
   "source": [
    "<font color = 'Orange'>---- Standardization or Scaling The dataframe using Standard Scaler Function ----"
   ]
  },
  {
   "cell_type": "code",
   "execution_count": 10,
   "id": "c0114147",
   "metadata": {},
   "outputs": [],
   "source": [
    "from sklearn.preprocessing import StandardScaler"
   ]
  },
  {
   "cell_type": "code",
   "execution_count": 11,
   "id": "7b4b80c5",
   "metadata": {},
   "outputs": [
    {
     "data": {
      "text/plain": [
       "((195192, 8), (83655, 8))"
      ]
     },
     "execution_count": 11,
     "metadata": {},
     "output_type": "execute_result"
    }
   ],
   "source": [
    "std_scaler=StandardScaler()\n",
    "std_X_train=std_scaler.fit_transform(X_train)\n",
    "std_X_test=std_scaler.fit_transform(X_test)\n",
    "std_X_train.shape , std_X_test.shape"
   ]
  },
  {
   "cell_type": "markdown",
   "id": "72d05087",
   "metadata": {},
   "source": [
    "#### ---- Applying Different ML Algorithms to Check the Performance and Decide the Best Suitable Model ----"
   ]
  },
  {
   "cell_type": "markdown",
   "id": "d829237a",
   "metadata": {},
   "source": [
    "#### <font color = 'Orange'>---- Logigstic Regression ----"
   ]
  },
  {
   "cell_type": "markdown",
   "id": "bcf6f62a",
   "metadata": {},
   "source": [
    "#### <font color = 'White'>---- Model Training ----"
   ]
  },
  {
   "cell_type": "code",
   "execution_count": 11,
   "id": "45ea8e40",
   "metadata": {},
   "outputs": [],
   "source": [
    "from sklearn.linear_model import LogisticRegression\n",
    "from sklearn.metrics import accuracy_score"
   ]
  },
  {
   "cell_type": "code",
   "execution_count": 12,
   "id": "93877416",
   "metadata": {},
   "outputs": [
    {
     "data": {
      "text/html": [
       "<style>#sk-container-id-1 {color: black;background-color: white;}#sk-container-id-1 pre{padding: 0;}#sk-container-id-1 div.sk-toggleable {background-color: white;}#sk-container-id-1 label.sk-toggleable__label {cursor: pointer;display: block;width: 100%;margin-bottom: 0;padding: 0.3em;box-sizing: border-box;text-align: center;}#sk-container-id-1 label.sk-toggleable__label-arrow:before {content: \"▸\";float: left;margin-right: 0.25em;color: #696969;}#sk-container-id-1 label.sk-toggleable__label-arrow:hover:before {color: black;}#sk-container-id-1 div.sk-estimator:hover label.sk-toggleable__label-arrow:before {color: black;}#sk-container-id-1 div.sk-toggleable__content {max-height: 0;max-width: 0;overflow: hidden;text-align: left;background-color: #f0f8ff;}#sk-container-id-1 div.sk-toggleable__content pre {margin: 0.2em;color: black;border-radius: 0.25em;background-color: #f0f8ff;}#sk-container-id-1 input.sk-toggleable__control:checked~div.sk-toggleable__content {max-height: 200px;max-width: 100%;overflow: auto;}#sk-container-id-1 input.sk-toggleable__control:checked~label.sk-toggleable__label-arrow:before {content: \"▾\";}#sk-container-id-1 div.sk-estimator input.sk-toggleable__control:checked~label.sk-toggleable__label {background-color: #d4ebff;}#sk-container-id-1 div.sk-label input.sk-toggleable__control:checked~label.sk-toggleable__label {background-color: #d4ebff;}#sk-container-id-1 input.sk-hidden--visually {border: 0;clip: rect(1px 1px 1px 1px);clip: rect(1px, 1px, 1px, 1px);height: 1px;margin: -1px;overflow: hidden;padding: 0;position: absolute;width: 1px;}#sk-container-id-1 div.sk-estimator {font-family: monospace;background-color: #f0f8ff;border: 1px dotted black;border-radius: 0.25em;box-sizing: border-box;margin-bottom: 0.5em;}#sk-container-id-1 div.sk-estimator:hover {background-color: #d4ebff;}#sk-container-id-1 div.sk-parallel-item::after {content: \"\";width: 100%;border-bottom: 1px solid gray;flex-grow: 1;}#sk-container-id-1 div.sk-label:hover label.sk-toggleable__label {background-color: #d4ebff;}#sk-container-id-1 div.sk-serial::before {content: \"\";position: absolute;border-left: 1px solid gray;box-sizing: border-box;top: 0;bottom: 0;left: 50%;z-index: 0;}#sk-container-id-1 div.sk-serial {display: flex;flex-direction: column;align-items: center;background-color: white;padding-right: 0.2em;padding-left: 0.2em;position: relative;}#sk-container-id-1 div.sk-item {position: relative;z-index: 1;}#sk-container-id-1 div.sk-parallel {display: flex;align-items: stretch;justify-content: center;background-color: white;position: relative;}#sk-container-id-1 div.sk-item::before, #sk-container-id-1 div.sk-parallel-item::before {content: \"\";position: absolute;border-left: 1px solid gray;box-sizing: border-box;top: 0;bottom: 0;left: 50%;z-index: -1;}#sk-container-id-1 div.sk-parallel-item {display: flex;flex-direction: column;z-index: 1;position: relative;background-color: white;}#sk-container-id-1 div.sk-parallel-item:first-child::after {align-self: flex-end;width: 50%;}#sk-container-id-1 div.sk-parallel-item:last-child::after {align-self: flex-start;width: 50%;}#sk-container-id-1 div.sk-parallel-item:only-child::after {width: 0;}#sk-container-id-1 div.sk-dashed-wrapped {border: 1px dashed gray;margin: 0 0.4em 0.5em 0.4em;box-sizing: border-box;padding-bottom: 0.4em;background-color: white;}#sk-container-id-1 div.sk-label label {font-family: monospace;font-weight: bold;display: inline-block;line-height: 1.2em;}#sk-container-id-1 div.sk-label-container {text-align: center;}#sk-container-id-1 div.sk-container {/* jupyter's `normalize.less` sets `[hidden] { display: none; }` but bootstrap.min.css set `[hidden] { display: none !important; }` so we also need the `!important` here to be able to override the default hidden behavior on the sphinx rendered scikit-learn.org. See: https://github.com/scikit-learn/scikit-learn/issues/21755 */display: inline-block !important;position: relative;}#sk-container-id-1 div.sk-text-repr-fallback {display: none;}</style><div id=\"sk-container-id-1\" class=\"sk-top-container\"><div class=\"sk-text-repr-fallback\"><pre>LogisticRegression(max_iter=500, random_state=2000, solver=&#x27;liblinear&#x27;)</pre><b>In a Jupyter environment, please rerun this cell to show the HTML representation or trust the notebook. <br />On GitHub, the HTML representation is unable to render, please try loading this page with nbviewer.org.</b></div><div class=\"sk-container\" hidden><div class=\"sk-item\"><div class=\"sk-estimator sk-toggleable\"><input class=\"sk-toggleable__control sk-hidden--visually\" id=\"sk-estimator-id-1\" type=\"checkbox\" checked><label for=\"sk-estimator-id-1\" class=\"sk-toggleable__label sk-toggleable__label-arrow\">LogisticRegression</label><div class=\"sk-toggleable__content\"><pre>LogisticRegression(max_iter=500, random_state=2000, solver=&#x27;liblinear&#x27;)</pre></div></div></div></div></div>"
      ],
      "text/plain": [
       "LogisticRegression(max_iter=500, random_state=2000, solver='liblinear')"
      ]
     },
     "execution_count": 12,
     "metadata": {},
     "output_type": "execute_result"
    }
   ],
   "source": [
    "log_reg=LogisticRegression(max_iter=500,solver=\"liblinear\",C=1.0,random_state=2000)\n",
    "log_reg.fit(std_X_train,Y_train)"
   ]
  },
  {
   "cell_type": "markdown",
   "id": "af3cede9",
   "metadata": {},
   "source": [
    "#### <font color = 'White'>---- Model Evaluation ----"
   ]
  },
  {
   "cell_type": "code",
   "execution_count": 13,
   "id": "7dd3132b",
   "metadata": {},
   "outputs": [
    {
     "data": {
      "text/plain": [
       "array([0, 0, 0, ..., 0, 1, 0], dtype=int64)"
      ]
     },
     "execution_count": 13,
     "metadata": {},
     "output_type": "execute_result"
    }
   ],
   "source": [
    "Y_pred=log_reg.predict(std_X_test)\n",
    "Y_pred"
   ]
  },
  {
   "cell_type": "code",
   "execution_count": 14,
   "id": "7f816174",
   "metadata": {},
   "outputs": [
    {
     "data": {
      "text/plain": [
       "22891     0\n",
       "205879    0\n",
       "67584     0\n",
       "259427    0\n",
       "27322     1\n",
       "         ..\n",
       "122928    0\n",
       "129309    0\n",
       "15063     0\n",
       "100686    1\n",
       "106519    0\n",
       "Name: Corona, Length: 83655, dtype: int64"
      ]
     },
     "execution_count": 14,
     "metadata": {},
     "output_type": "execute_result"
    }
   ],
   "source": [
    "Y_test"
   ]
  },
  {
   "cell_type": "code",
   "execution_count": 15,
   "id": "cd30a4e0",
   "metadata": {},
   "outputs": [
    {
     "data": {
      "text/plain": [
       "array([[77900,  3421,  1151],\n",
       "       [  169,   997,    17],\n",
       "       [    0,     0,     0]], dtype=int64)"
      ]
     },
     "execution_count": 15,
     "metadata": {},
     "output_type": "execute_result"
    }
   ],
   "source": [
    "from sklearn.metrics import confusion_matrix\n",
    "confusion_matrix(Y_pred,Y_test)"
   ]
  },
  {
   "cell_type": "code",
   "execution_count": 16,
   "id": "dff29813",
   "metadata": {},
   "outputs": [
    {
     "data": {
      "text/plain": [
       "0.9431235431235431"
      ]
     },
     "execution_count": 16,
     "metadata": {},
     "output_type": "execute_result"
    }
   ],
   "source": [
    "accuracy_score(Y_test,Y_pred)"
   ]
  },
  {
   "cell_type": "markdown",
   "id": "67f5ee68",
   "metadata": {},
   "source": [
    "####  <font color = 'White'>---- Cross Validation of Logistic Regession Model ----"
   ]
  },
  {
   "cell_type": "code",
   "execution_count": 17,
   "id": "dd0765d2",
   "metadata": {},
   "outputs": [],
   "source": [
    "model=LogisticRegression()\n",
    "ssplit=ShuffleSplit(n_splits=10,test_size=0.30)\n",
    "result=cross_val_score(model,X,Y,cv=ssplit)"
   ]
  },
  {
   "cell_type": "code",
   "execution_count": 18,
   "id": "c5d7f8a7",
   "metadata": {},
   "outputs": [
    {
     "name": "stdout",
     "output_type": "stream",
     "text": [
      "[0.94301596 0.94454605 0.94412767 0.94357779 0.94243022 0.94398422\n",
      " 0.94336262 0.94363756 0.94385273 0.94320722]\n",
      "0.9435742035742034\n"
     ]
    }
   ],
   "source": [
    "print(result)\n",
    "print(result.mean())"
   ]
  },
  {
   "cell_type": "markdown",
   "id": "cc398256",
   "metadata": {},
   "source": [
    "#### <font color = 'Orange'>----Decision Tree ----"
   ]
  },
  {
   "cell_type": "code",
   "execution_count": 19,
   "id": "40674f94",
   "metadata": {},
   "outputs": [],
   "source": [
    "from sklearn.tree import DecisionTreeClassifier\n",
    "from sklearn.metrics import accuracy_score"
   ]
  },
  {
   "cell_type": "markdown",
   "id": "684b3b29",
   "metadata": {},
   "source": [
    "#### <font color = 'White'>---- Model Training ----"
   ]
  },
  {
   "cell_type": "code",
   "execution_count": 20,
   "id": "80a79291",
   "metadata": {},
   "outputs": [
    {
     "data": {
      "text/html": [
       "<style>#sk-container-id-2 {color: black;background-color: white;}#sk-container-id-2 pre{padding: 0;}#sk-container-id-2 div.sk-toggleable {background-color: white;}#sk-container-id-2 label.sk-toggleable__label {cursor: pointer;display: block;width: 100%;margin-bottom: 0;padding: 0.3em;box-sizing: border-box;text-align: center;}#sk-container-id-2 label.sk-toggleable__label-arrow:before {content: \"▸\";float: left;margin-right: 0.25em;color: #696969;}#sk-container-id-2 label.sk-toggleable__label-arrow:hover:before {color: black;}#sk-container-id-2 div.sk-estimator:hover label.sk-toggleable__label-arrow:before {color: black;}#sk-container-id-2 div.sk-toggleable__content {max-height: 0;max-width: 0;overflow: hidden;text-align: left;background-color: #f0f8ff;}#sk-container-id-2 div.sk-toggleable__content pre {margin: 0.2em;color: black;border-radius: 0.25em;background-color: #f0f8ff;}#sk-container-id-2 input.sk-toggleable__control:checked~div.sk-toggleable__content {max-height: 200px;max-width: 100%;overflow: auto;}#sk-container-id-2 input.sk-toggleable__control:checked~label.sk-toggleable__label-arrow:before {content: \"▾\";}#sk-container-id-2 div.sk-estimator input.sk-toggleable__control:checked~label.sk-toggleable__label {background-color: #d4ebff;}#sk-container-id-2 div.sk-label input.sk-toggleable__control:checked~label.sk-toggleable__label {background-color: #d4ebff;}#sk-container-id-2 input.sk-hidden--visually {border: 0;clip: rect(1px 1px 1px 1px);clip: rect(1px, 1px, 1px, 1px);height: 1px;margin: -1px;overflow: hidden;padding: 0;position: absolute;width: 1px;}#sk-container-id-2 div.sk-estimator {font-family: monospace;background-color: #f0f8ff;border: 1px dotted black;border-radius: 0.25em;box-sizing: border-box;margin-bottom: 0.5em;}#sk-container-id-2 div.sk-estimator:hover {background-color: #d4ebff;}#sk-container-id-2 div.sk-parallel-item::after {content: \"\";width: 100%;border-bottom: 1px solid gray;flex-grow: 1;}#sk-container-id-2 div.sk-label:hover label.sk-toggleable__label {background-color: #d4ebff;}#sk-container-id-2 div.sk-serial::before {content: \"\";position: absolute;border-left: 1px solid gray;box-sizing: border-box;top: 0;bottom: 0;left: 50%;z-index: 0;}#sk-container-id-2 div.sk-serial {display: flex;flex-direction: column;align-items: center;background-color: white;padding-right: 0.2em;padding-left: 0.2em;position: relative;}#sk-container-id-2 div.sk-item {position: relative;z-index: 1;}#sk-container-id-2 div.sk-parallel {display: flex;align-items: stretch;justify-content: center;background-color: white;position: relative;}#sk-container-id-2 div.sk-item::before, #sk-container-id-2 div.sk-parallel-item::before {content: \"\";position: absolute;border-left: 1px solid gray;box-sizing: border-box;top: 0;bottom: 0;left: 50%;z-index: -1;}#sk-container-id-2 div.sk-parallel-item {display: flex;flex-direction: column;z-index: 1;position: relative;background-color: white;}#sk-container-id-2 div.sk-parallel-item:first-child::after {align-self: flex-end;width: 50%;}#sk-container-id-2 div.sk-parallel-item:last-child::after {align-self: flex-start;width: 50%;}#sk-container-id-2 div.sk-parallel-item:only-child::after {width: 0;}#sk-container-id-2 div.sk-dashed-wrapped {border: 1px dashed gray;margin: 0 0.4em 0.5em 0.4em;box-sizing: border-box;padding-bottom: 0.4em;background-color: white;}#sk-container-id-2 div.sk-label label {font-family: monospace;font-weight: bold;display: inline-block;line-height: 1.2em;}#sk-container-id-2 div.sk-label-container {text-align: center;}#sk-container-id-2 div.sk-container {/* jupyter's `normalize.less` sets `[hidden] { display: none; }` but bootstrap.min.css set `[hidden] { display: none !important; }` so we also need the `!important` here to be able to override the default hidden behavior on the sphinx rendered scikit-learn.org. See: https://github.com/scikit-learn/scikit-learn/issues/21755 */display: inline-block !important;position: relative;}#sk-container-id-2 div.sk-text-repr-fallback {display: none;}</style><div id=\"sk-container-id-2\" class=\"sk-top-container\"><div class=\"sk-text-repr-fallback\"><pre>DecisionTreeClassifier(max_depth=50, max_features=10, random_state=2000)</pre><b>In a Jupyter environment, please rerun this cell to show the HTML representation or trust the notebook. <br />On GitHub, the HTML representation is unable to render, please try loading this page with nbviewer.org.</b></div><div class=\"sk-container\" hidden><div class=\"sk-item\"><div class=\"sk-estimator sk-toggleable\"><input class=\"sk-toggleable__control sk-hidden--visually\" id=\"sk-estimator-id-2\" type=\"checkbox\" checked><label for=\"sk-estimator-id-2\" class=\"sk-toggleable__label sk-toggleable__label-arrow\">DecisionTreeClassifier</label><div class=\"sk-toggleable__content\"><pre>DecisionTreeClassifier(max_depth=50, max_features=10, random_state=2000)</pre></div></div></div></div></div>"
      ],
      "text/plain": [
       "DecisionTreeClassifier(max_depth=50, max_features=10, random_state=2000)"
      ]
     },
     "execution_count": 20,
     "metadata": {},
     "output_type": "execute_result"
    }
   ],
   "source": [
    "d_tree=DecisionTreeClassifier(max_depth=50,max_features=10,random_state=2000)\n",
    "d_tree.fit(std_X_train,Y_train)"
   ]
  },
  {
   "cell_type": "markdown",
   "id": "d889018c",
   "metadata": {},
   "source": [
    "#### <font color = 'White'>----Model Evaluation ----"
   ]
  },
  {
   "cell_type": "code",
   "execution_count": 21,
   "id": "1f48225f",
   "metadata": {},
   "outputs": [
    {
     "data": {
      "text/plain": [
       "array([0, 0, 0, ..., 0, 1, 0], dtype=int64)"
      ]
     },
     "execution_count": 21,
     "metadata": {},
     "output_type": "execute_result"
    }
   ],
   "source": [
    "Y_pred=d_tree.predict(std_X_test)\n",
    "Y_pred"
   ]
  },
  {
   "cell_type": "code",
   "execution_count": 22,
   "id": "b64138be",
   "metadata": {},
   "outputs": [
    {
     "data": {
      "text/plain": [
       "22891     0\n",
       "205879    0\n",
       "67584     0\n",
       "259427    0\n",
       "27322     1\n",
       "         ..\n",
       "122928    0\n",
       "129309    0\n",
       "15063     0\n",
       "100686    1\n",
       "106519    0\n",
       "Name: Corona, Length: 83655, dtype: int64"
      ]
     },
     "execution_count": 22,
     "metadata": {},
     "output_type": "execute_result"
    }
   ],
   "source": [
    "Y_test"
   ]
  },
  {
   "cell_type": "code",
   "execution_count": 23,
   "id": "0f4ba06a",
   "metadata": {},
   "outputs": [
    {
     "data": {
      "text/plain": [
       "array([[77434,   634,     1],\n",
       "       [ 2000,  2417,     1],\n",
       "       [ 1120,    48,     0]], dtype=int64)"
      ]
     },
     "execution_count": 23,
     "metadata": {},
     "output_type": "execute_result"
    }
   ],
   "source": [
    "from sklearn.metrics import confusion_matrix\n",
    "confusion_matrix(Y_test,Y_pred)"
   ]
  },
  {
   "cell_type": "code",
   "execution_count": 24,
   "id": "0c8cfe5b",
   "metadata": {},
   "outputs": [
    {
     "data": {
      "text/plain": [
       "0.954527523758293"
      ]
     },
     "execution_count": 24,
     "metadata": {},
     "output_type": "execute_result"
    }
   ],
   "source": [
    "accuracy_score(Y_test,Y_pred)"
   ]
  },
  {
   "cell_type": "code",
   "execution_count": 26,
   "id": "161cb670",
   "metadata": {},
   "outputs": [
    {
     "data": {
      "text/plain": [
       "0.9572882085331366"
      ]
     },
     "execution_count": 26,
     "metadata": {},
     "output_type": "execute_result"
    }
   ],
   "source": [
    "Y_pred_train = d_tree.predict(std_X_train)\n",
    "accuracy_score(Y_train, Y_pred_train)"
   ]
  },
  {
   "cell_type": "markdown",
   "id": "b797865a",
   "metadata": {},
   "source": [
    "#### <font color = 'White'>---- Cross Validation of Decision Tree Model ----"
   ]
  },
  {
   "cell_type": "code",
   "execution_count": 30,
   "id": "f856bc7a",
   "metadata": {},
   "outputs": [],
   "source": [
    "model=DecisionTreeClassifier()\n",
    "ssplit=ShuffleSplit(n_splits=10,test_size=0.30)\n",
    "result=cross_val_score(model,X,Y,cv=ssplit)"
   ]
  },
  {
   "cell_type": "code",
   "execution_count": 31,
   "id": "d62eef68",
   "metadata": {},
   "outputs": [
    {
     "name": "stdout",
     "output_type": "stream",
     "text": [
      "[0.95608153 0.9567629  0.95618911 0.95587831 0.95545992 0.95642819\n",
      " 0.95689439 0.95621302 0.95563923 0.9560098 ]\n",
      "0.9561556392325624\n"
     ]
    }
   ],
   "source": [
    "print(result)\n",
    "print(result.mean())"
   ]
  },
  {
   "cell_type": "markdown",
   "id": "03a8b6e6",
   "metadata": {},
   "source": [
    "#### <font color = 'Orange'>---- Random Forest ----"
   ]
  },
  {
   "cell_type": "code",
   "execution_count": 33,
   "id": "5050efd8",
   "metadata": {},
   "outputs": [],
   "source": [
    "from sklearn.ensemble import RandomForestClassifier\n",
    "from sklearn.metrics import accuracy_score"
   ]
  },
  {
   "cell_type": "markdown",
   "id": "59ce3cea",
   "metadata": {},
   "source": [
    "#### <font color = 'White'>---- Model Training ----"
   ]
  },
  {
   "cell_type": "code",
   "execution_count": 52,
   "id": "ab53e24b",
   "metadata": {},
   "outputs": [
    {
     "data": {
      "text/html": [
       "<style>#sk-container-id-6 {color: black;background-color: white;}#sk-container-id-6 pre{padding: 0;}#sk-container-id-6 div.sk-toggleable {background-color: white;}#sk-container-id-6 label.sk-toggleable__label {cursor: pointer;display: block;width: 100%;margin-bottom: 0;padding: 0.3em;box-sizing: border-box;text-align: center;}#sk-container-id-6 label.sk-toggleable__label-arrow:before {content: \"▸\";float: left;margin-right: 0.25em;color: #696969;}#sk-container-id-6 label.sk-toggleable__label-arrow:hover:before {color: black;}#sk-container-id-6 div.sk-estimator:hover label.sk-toggleable__label-arrow:before {color: black;}#sk-container-id-6 div.sk-toggleable__content {max-height: 0;max-width: 0;overflow: hidden;text-align: left;background-color: #f0f8ff;}#sk-container-id-6 div.sk-toggleable__content pre {margin: 0.2em;color: black;border-radius: 0.25em;background-color: #f0f8ff;}#sk-container-id-6 input.sk-toggleable__control:checked~div.sk-toggleable__content {max-height: 200px;max-width: 100%;overflow: auto;}#sk-container-id-6 input.sk-toggleable__control:checked~label.sk-toggleable__label-arrow:before {content: \"▾\";}#sk-container-id-6 div.sk-estimator input.sk-toggleable__control:checked~label.sk-toggleable__label {background-color: #d4ebff;}#sk-container-id-6 div.sk-label input.sk-toggleable__control:checked~label.sk-toggleable__label {background-color: #d4ebff;}#sk-container-id-6 input.sk-hidden--visually {border: 0;clip: rect(1px 1px 1px 1px);clip: rect(1px, 1px, 1px, 1px);height: 1px;margin: -1px;overflow: hidden;padding: 0;position: absolute;width: 1px;}#sk-container-id-6 div.sk-estimator {font-family: monospace;background-color: #f0f8ff;border: 1px dotted black;border-radius: 0.25em;box-sizing: border-box;margin-bottom: 0.5em;}#sk-container-id-6 div.sk-estimator:hover {background-color: #d4ebff;}#sk-container-id-6 div.sk-parallel-item::after {content: \"\";width: 100%;border-bottom: 1px solid gray;flex-grow: 1;}#sk-container-id-6 div.sk-label:hover label.sk-toggleable__label {background-color: #d4ebff;}#sk-container-id-6 div.sk-serial::before {content: \"\";position: absolute;border-left: 1px solid gray;box-sizing: border-box;top: 0;bottom: 0;left: 50%;z-index: 0;}#sk-container-id-6 div.sk-serial {display: flex;flex-direction: column;align-items: center;background-color: white;padding-right: 0.2em;padding-left: 0.2em;position: relative;}#sk-container-id-6 div.sk-item {position: relative;z-index: 1;}#sk-container-id-6 div.sk-parallel {display: flex;align-items: stretch;justify-content: center;background-color: white;position: relative;}#sk-container-id-6 div.sk-item::before, #sk-container-id-6 div.sk-parallel-item::before {content: \"\";position: absolute;border-left: 1px solid gray;box-sizing: border-box;top: 0;bottom: 0;left: 50%;z-index: -1;}#sk-container-id-6 div.sk-parallel-item {display: flex;flex-direction: column;z-index: 1;position: relative;background-color: white;}#sk-container-id-6 div.sk-parallel-item:first-child::after {align-self: flex-end;width: 50%;}#sk-container-id-6 div.sk-parallel-item:last-child::after {align-self: flex-start;width: 50%;}#sk-container-id-6 div.sk-parallel-item:only-child::after {width: 0;}#sk-container-id-6 div.sk-dashed-wrapped {border: 1px dashed gray;margin: 0 0.4em 0.5em 0.4em;box-sizing: border-box;padding-bottom: 0.4em;background-color: white;}#sk-container-id-6 div.sk-label label {font-family: monospace;font-weight: bold;display: inline-block;line-height: 1.2em;}#sk-container-id-6 div.sk-label-container {text-align: center;}#sk-container-id-6 div.sk-container {/* jupyter's `normalize.less` sets `[hidden] { display: none; }` but bootstrap.min.css set `[hidden] { display: none !important; }` so we also need the `!important` here to be able to override the default hidden behavior on the sphinx rendered scikit-learn.org. See: https://github.com/scikit-learn/scikit-learn/issues/21755 */display: inline-block !important;position: relative;}#sk-container-id-6 div.sk-text-repr-fallback {display: none;}</style><div id=\"sk-container-id-6\" class=\"sk-top-container\"><div class=\"sk-text-repr-fallback\"><pre>RandomForestClassifier(criterion=&#x27;entropy&#x27;, random_state=2000)</pre><b>In a Jupyter environment, please rerun this cell to show the HTML representation or trust the notebook. <br />On GitHub, the HTML representation is unable to render, please try loading this page with nbviewer.org.</b></div><div class=\"sk-container\" hidden><div class=\"sk-item\"><div class=\"sk-estimator sk-toggleable\"><input class=\"sk-toggleable__control sk-hidden--visually\" id=\"sk-estimator-id-6\" type=\"checkbox\" checked><label for=\"sk-estimator-id-6\" class=\"sk-toggleable__label sk-toggleable__label-arrow\">RandomForestClassifier</label><div class=\"sk-toggleable__content\"><pre>RandomForestClassifier(criterion=&#x27;entropy&#x27;, random_state=2000)</pre></div></div></div></div></div>"
      ],
      "text/plain": [
       "RandomForestClassifier(criterion='entropy', random_state=2000)"
      ]
     },
     "execution_count": 52,
     "metadata": {},
     "output_type": "execute_result"
    }
   ],
   "source": [
    "rf=RandomForestClassifier(n_estimators=100,criterion=\"entropy\",random_state=2000)\n",
    "rf.fit(std_X_train,Y_train)"
   ]
  },
  {
   "cell_type": "markdown",
   "id": "0c29afb3",
   "metadata": {},
   "source": [
    "#### <font color = 'White'>----Model Evaluation ----"
   ]
  },
  {
   "cell_type": "code",
   "execution_count": 53,
   "id": "c4b83b8f",
   "metadata": {},
   "outputs": [
    {
     "data": {
      "text/plain": [
       "array([0, 0, 0, ..., 0, 1, 0], dtype=int64)"
      ]
     },
     "execution_count": 53,
     "metadata": {},
     "output_type": "execute_result"
    }
   ],
   "source": [
    "Y_pred=rf.predict(std_X_test)\n",
    "Y_pred"
   ]
  },
  {
   "cell_type": "code",
   "execution_count": 54,
   "id": "faf35c2a",
   "metadata": {},
   "outputs": [
    {
     "data": {
      "text/plain": [
       "22891     0\n",
       "205879    0\n",
       "67584     0\n",
       "259427    0\n",
       "27322     1\n",
       "         ..\n",
       "122928    0\n",
       "129309    0\n",
       "15063     0\n",
       "100686    1\n",
       "106519    0\n",
       "Name: Corona, Length: 83655, dtype: int64"
      ]
     },
     "execution_count": 54,
     "metadata": {},
     "output_type": "execute_result"
    }
   ],
   "source": [
    "Y_test"
   ]
  },
  {
   "cell_type": "code",
   "execution_count": 55,
   "id": "64f783ff",
   "metadata": {},
   "outputs": [
    {
     "data": {
      "text/plain": [
       "array([[77432,  1985,  1120],\n",
       "       [  637,  2432,    48],\n",
       "       [    0,     1,     0]], dtype=int64)"
      ]
     },
     "execution_count": 55,
     "metadata": {},
     "output_type": "execute_result"
    }
   ],
   "source": [
    "from sklearn.metrics import confusion_matrix\n",
    "confusion_matrix(Y_pred,Y_test)"
   ]
  },
  {
   "cell_type": "code",
   "execution_count": 56,
   "id": "3ea96875",
   "metadata": {},
   "outputs": [
    {
     "data": {
      "text/plain": [
       "0.9546829239136931"
      ]
     },
     "execution_count": 56,
     "metadata": {},
     "output_type": "execute_result"
    }
   ],
   "source": [
    "accuracy_score(Y_test,Y_pred)"
   ]
  },
  {
   "cell_type": "markdown",
   "id": "cd92b7c1",
   "metadata": {},
   "source": [
    "#### <font color = 'White'>----Cross Validation of Random Forest Classifier ----"
   ]
  },
  {
   "cell_type": "code",
   "execution_count": 57,
   "id": "e5b0e477",
   "metadata": {},
   "outputs": [],
   "source": [
    "model=RandomForestClassifier()\n",
    "ssplit=ShuffleSplit(n_splits=10,test_size=0.30)\n",
    "result=cross_val_score(model,X,Y,cv=ssplit)"
   ]
  },
  {
   "cell_type": "code",
   "execution_count": 58,
   "id": "a7e37af4",
   "metadata": {},
   "outputs": [
    {
     "name": "stdout",
     "output_type": "stream",
     "text": [
      "[0.95536429 0.95622497 0.95579463 0.95645209 0.95566314 0.95629669\n",
      " 0.95781483 0.95620106 0.95696611 0.95555556]\n",
      "0.9562333393102623\n"
     ]
    }
   ],
   "source": [
    "print(result)\n",
    "print(result.mean())"
   ]
  },
  {
   "cell_type": "markdown",
   "id": "295f4b97",
   "metadata": {},
   "source": [
    "#### <font color = 'Orange'>---- Support Vector Machine [SV Classification] ----"
   ]
  },
  {
   "cell_type": "code",
   "execution_count": 11,
   "id": "278dcaf2",
   "metadata": {},
   "outputs": [],
   "source": [
    "from sklearn.svm import SVC\n",
    "from sklearn.metrics import accuracy_score"
   ]
  },
  {
   "cell_type": "code",
   "execution_count": 13,
   "id": "0a88cfa1",
   "metadata": {},
   "outputs": [
    {
     "data": {
      "text/html": [
       "<style>#sk-container-id-1 {color: black;background-color: white;}#sk-container-id-1 pre{padding: 0;}#sk-container-id-1 div.sk-toggleable {background-color: white;}#sk-container-id-1 label.sk-toggleable__label {cursor: pointer;display: block;width: 100%;margin-bottom: 0;padding: 0.3em;box-sizing: border-box;text-align: center;}#sk-container-id-1 label.sk-toggleable__label-arrow:before {content: \"▸\";float: left;margin-right: 0.25em;color: #696969;}#sk-container-id-1 label.sk-toggleable__label-arrow:hover:before {color: black;}#sk-container-id-1 div.sk-estimator:hover label.sk-toggleable__label-arrow:before {color: black;}#sk-container-id-1 div.sk-toggleable__content {max-height: 0;max-width: 0;overflow: hidden;text-align: left;background-color: #f0f8ff;}#sk-container-id-1 div.sk-toggleable__content pre {margin: 0.2em;color: black;border-radius: 0.25em;background-color: #f0f8ff;}#sk-container-id-1 input.sk-toggleable__control:checked~div.sk-toggleable__content {max-height: 200px;max-width: 100%;overflow: auto;}#sk-container-id-1 input.sk-toggleable__control:checked~label.sk-toggleable__label-arrow:before {content: \"▾\";}#sk-container-id-1 div.sk-estimator input.sk-toggleable__control:checked~label.sk-toggleable__label {background-color: #d4ebff;}#sk-container-id-1 div.sk-label input.sk-toggleable__control:checked~label.sk-toggleable__label {background-color: #d4ebff;}#sk-container-id-1 input.sk-hidden--visually {border: 0;clip: rect(1px 1px 1px 1px);clip: rect(1px, 1px, 1px, 1px);height: 1px;margin: -1px;overflow: hidden;padding: 0;position: absolute;width: 1px;}#sk-container-id-1 div.sk-estimator {font-family: monospace;background-color: #f0f8ff;border: 1px dotted black;border-radius: 0.25em;box-sizing: border-box;margin-bottom: 0.5em;}#sk-container-id-1 div.sk-estimator:hover {background-color: #d4ebff;}#sk-container-id-1 div.sk-parallel-item::after {content: \"\";width: 100%;border-bottom: 1px solid gray;flex-grow: 1;}#sk-container-id-1 div.sk-label:hover label.sk-toggleable__label {background-color: #d4ebff;}#sk-container-id-1 div.sk-serial::before {content: \"\";position: absolute;border-left: 1px solid gray;box-sizing: border-box;top: 0;bottom: 0;left: 50%;z-index: 0;}#sk-container-id-1 div.sk-serial {display: flex;flex-direction: column;align-items: center;background-color: white;padding-right: 0.2em;padding-left: 0.2em;position: relative;}#sk-container-id-1 div.sk-item {position: relative;z-index: 1;}#sk-container-id-1 div.sk-parallel {display: flex;align-items: stretch;justify-content: center;background-color: white;position: relative;}#sk-container-id-1 div.sk-item::before, #sk-container-id-1 div.sk-parallel-item::before {content: \"\";position: absolute;border-left: 1px solid gray;box-sizing: border-box;top: 0;bottom: 0;left: 50%;z-index: -1;}#sk-container-id-1 div.sk-parallel-item {display: flex;flex-direction: column;z-index: 1;position: relative;background-color: white;}#sk-container-id-1 div.sk-parallel-item:first-child::after {align-self: flex-end;width: 50%;}#sk-container-id-1 div.sk-parallel-item:last-child::after {align-self: flex-start;width: 50%;}#sk-container-id-1 div.sk-parallel-item:only-child::after {width: 0;}#sk-container-id-1 div.sk-dashed-wrapped {border: 1px dashed gray;margin: 0 0.4em 0.5em 0.4em;box-sizing: border-box;padding-bottom: 0.4em;background-color: white;}#sk-container-id-1 div.sk-label label {font-family: monospace;font-weight: bold;display: inline-block;line-height: 1.2em;}#sk-container-id-1 div.sk-label-container {text-align: center;}#sk-container-id-1 div.sk-container {/* jupyter's `normalize.less` sets `[hidden] { display: none; }` but bootstrap.min.css set `[hidden] { display: none !important; }` so we also need the `!important` here to be able to override the default hidden behavior on the sphinx rendered scikit-learn.org. See: https://github.com/scikit-learn/scikit-learn/issues/21755 */display: inline-block !important;position: relative;}#sk-container-id-1 div.sk-text-repr-fallback {display: none;}</style><div id=\"sk-container-id-1\" class=\"sk-top-container\"><div class=\"sk-text-repr-fallback\"><pre>SVC(gamma=0.5)</pre><b>In a Jupyter environment, please rerun this cell to show the HTML representation or trust the notebook. <br />On GitHub, the HTML representation is unable to render, please try loading this page with nbviewer.org.</b></div><div class=\"sk-container\" hidden><div class=\"sk-item\"><div class=\"sk-estimator sk-toggleable\"><input class=\"sk-toggleable__control sk-hidden--visually\" id=\"sk-estimator-id-1\" type=\"checkbox\" checked><label for=\"sk-estimator-id-1\" class=\"sk-toggleable__label sk-toggleable__label-arrow\">SVC</label><div class=\"sk-toggleable__content\"><pre>SVC(gamma=0.5)</pre></div></div></div></div></div>"
      ],
      "text/plain": [
       "SVC(gamma=0.5)"
      ]
     },
     "execution_count": 13,
     "metadata": {},
     "output_type": "execute_result"
    }
   ],
   "source": [
    "svm=SVC(kernel='rbf',gamma=0.5,C=1.0)\n",
    "svm.fit(std_X_train,Y_train)"
   ]
  },
  {
   "cell_type": "code",
   "execution_count": 15,
   "id": "4e9209af",
   "metadata": {},
   "outputs": [
    {
     "data": {
      "text/plain": [
       "array([0, 0, 0, ..., 0, 1, 0], dtype=int64)"
      ]
     },
     "execution_count": 15,
     "metadata": {},
     "output_type": "execute_result"
    }
   ],
   "source": [
    "Y_pred=svm.predict(std_X_test)\n",
    "Y_pred"
   ]
  },
  {
   "cell_type": "code",
   "execution_count": 16,
   "id": "764ce107",
   "metadata": {},
   "outputs": [
    {
     "data": {
      "text/plain": [
       "22891     0\n",
       "205879    0\n",
       "67584     0\n",
       "259427    0\n",
       "27322     1\n",
       "         ..\n",
       "122928    0\n",
       "129309    0\n",
       "15063     0\n",
       "100686    1\n",
       "106519    0\n",
       "Name: Corona, Length: 83655, dtype: int64"
      ]
     },
     "execution_count": 16,
     "metadata": {},
     "output_type": "execute_result"
    }
   ],
   "source": [
    "Y_test"
   ]
  },
  {
   "cell_type": "code",
   "execution_count": 18,
   "id": "28898149",
   "metadata": {},
   "outputs": [
    {
     "data": {
      "text/plain": [
       "array([[77420,  1976,  1118],\n",
       "       [  649,  2442,    50],\n",
       "       [    0,     0,     0]], dtype=int64)"
      ]
     },
     "execution_count": 18,
     "metadata": {},
     "output_type": "execute_result"
    }
   ],
   "source": [
    "from sklearn.metrics import confusion_matrix\n",
    "confusion_matrix(Y_pred,Y_test)"
   ]
  },
  {
   "cell_type": "code",
   "execution_count": 20,
   "id": "d5c47506",
   "metadata": {},
   "outputs": [
    {
     "data": {
      "text/plain": [
       "0.9546590161974777"
      ]
     },
     "execution_count": 20,
     "metadata": {},
     "output_type": "execute_result"
    }
   ],
   "source": [
    "accuracy_score(Y_test,Y_pred)"
   ]
  },
  {
   "cell_type": "markdown",
   "id": "510f28be",
   "metadata": {},
   "source": [
    "####  <font color = 'Orange'>----XGBoost Classifier ----"
   ]
  },
  {
   "cell_type": "code",
   "execution_count": 3,
   "id": "4ba8778d",
   "metadata": {},
   "outputs": [],
   "source": [
    "from xgboost import XGBClassifier\n",
    "from sklearn.metrics import accuracy_score"
   ]
  },
  {
   "cell_type": "code",
   "execution_count": 12,
   "id": "6cce93ca",
   "metadata": {},
   "outputs": [
    {
     "data": {
      "text/html": [
       "<style>#sk-container-id-1 {color: black;background-color: white;}#sk-container-id-1 pre{padding: 0;}#sk-container-id-1 div.sk-toggleable {background-color: white;}#sk-container-id-1 label.sk-toggleable__label {cursor: pointer;display: block;width: 100%;margin-bottom: 0;padding: 0.3em;box-sizing: border-box;text-align: center;}#sk-container-id-1 label.sk-toggleable__label-arrow:before {content: \"▸\";float: left;margin-right: 0.25em;color: #696969;}#sk-container-id-1 label.sk-toggleable__label-arrow:hover:before {color: black;}#sk-container-id-1 div.sk-estimator:hover label.sk-toggleable__label-arrow:before {color: black;}#sk-container-id-1 div.sk-toggleable__content {max-height: 0;max-width: 0;overflow: hidden;text-align: left;background-color: #f0f8ff;}#sk-container-id-1 div.sk-toggleable__content pre {margin: 0.2em;color: black;border-radius: 0.25em;background-color: #f0f8ff;}#sk-container-id-1 input.sk-toggleable__control:checked~div.sk-toggleable__content {max-height: 200px;max-width: 100%;overflow: auto;}#sk-container-id-1 input.sk-toggleable__control:checked~label.sk-toggleable__label-arrow:before {content: \"▾\";}#sk-container-id-1 div.sk-estimator input.sk-toggleable__control:checked~label.sk-toggleable__label {background-color: #d4ebff;}#sk-container-id-1 div.sk-label input.sk-toggleable__control:checked~label.sk-toggleable__label {background-color: #d4ebff;}#sk-container-id-1 input.sk-hidden--visually {border: 0;clip: rect(1px 1px 1px 1px);clip: rect(1px, 1px, 1px, 1px);height: 1px;margin: -1px;overflow: hidden;padding: 0;position: absolute;width: 1px;}#sk-container-id-1 div.sk-estimator {font-family: monospace;background-color: #f0f8ff;border: 1px dotted black;border-radius: 0.25em;box-sizing: border-box;margin-bottom: 0.5em;}#sk-container-id-1 div.sk-estimator:hover {background-color: #d4ebff;}#sk-container-id-1 div.sk-parallel-item::after {content: \"\";width: 100%;border-bottom: 1px solid gray;flex-grow: 1;}#sk-container-id-1 div.sk-label:hover label.sk-toggleable__label {background-color: #d4ebff;}#sk-container-id-1 div.sk-serial::before {content: \"\";position: absolute;border-left: 1px solid gray;box-sizing: border-box;top: 0;bottom: 0;left: 50%;z-index: 0;}#sk-container-id-1 div.sk-serial {display: flex;flex-direction: column;align-items: center;background-color: white;padding-right: 0.2em;padding-left: 0.2em;position: relative;}#sk-container-id-1 div.sk-item {position: relative;z-index: 1;}#sk-container-id-1 div.sk-parallel {display: flex;align-items: stretch;justify-content: center;background-color: white;position: relative;}#sk-container-id-1 div.sk-item::before, #sk-container-id-1 div.sk-parallel-item::before {content: \"\";position: absolute;border-left: 1px solid gray;box-sizing: border-box;top: 0;bottom: 0;left: 50%;z-index: -1;}#sk-container-id-1 div.sk-parallel-item {display: flex;flex-direction: column;z-index: 1;position: relative;background-color: white;}#sk-container-id-1 div.sk-parallel-item:first-child::after {align-self: flex-end;width: 50%;}#sk-container-id-1 div.sk-parallel-item:last-child::after {align-self: flex-start;width: 50%;}#sk-container-id-1 div.sk-parallel-item:only-child::after {width: 0;}#sk-container-id-1 div.sk-dashed-wrapped {border: 1px dashed gray;margin: 0 0.4em 0.5em 0.4em;box-sizing: border-box;padding-bottom: 0.4em;background-color: white;}#sk-container-id-1 div.sk-label label {font-family: monospace;font-weight: bold;display: inline-block;line-height: 1.2em;}#sk-container-id-1 div.sk-label-container {text-align: center;}#sk-container-id-1 div.sk-container {/* jupyter's `normalize.less` sets `[hidden] { display: none; }` but bootstrap.min.css set `[hidden] { display: none !important; }` so we also need the `!important` here to be able to override the default hidden behavior on the sphinx rendered scikit-learn.org. See: https://github.com/scikit-learn/scikit-learn/issues/21755 */display: inline-block !important;position: relative;}#sk-container-id-1 div.sk-text-repr-fallback {display: none;}</style><div id=\"sk-container-id-1\" class=\"sk-top-container\"><div class=\"sk-text-repr-fallback\"><pre>XGBClassifier(base_score=None, booster=None, callbacks=None,\n",
       "              colsample_bylevel=None, colsample_bynode=None,\n",
       "              colsample_bytree=None, early_stopping_rounds=None,\n",
       "              enable_categorical=False, eval_metric=None, feature_types=None,\n",
       "              gamma=None, gpu_id=None, grow_policy=None, importance_type=None,\n",
       "              interaction_constraints=None, learning_rate=None, max_bin=None,\n",
       "              max_cat_threshold=None, max_cat_to_onehot=None,\n",
       "              max_delta_step=None, max_depth=7, max_leaves=None,\n",
       "              min_child_weight=None, missing=nan, monotone_constraints=None,\n",
       "              n_estimators=100, n_jobs=None, num_class=3,\n",
       "              num_parallel_tree=None, objective=&#x27;multi:softmax&#x27;, ...)</pre><b>In a Jupyter environment, please rerun this cell to show the HTML representation or trust the notebook. <br />On GitHub, the HTML representation is unable to render, please try loading this page with nbviewer.org.</b></div><div class=\"sk-container\" hidden><div class=\"sk-item\"><div class=\"sk-estimator sk-toggleable\"><input class=\"sk-toggleable__control sk-hidden--visually\" id=\"sk-estimator-id-1\" type=\"checkbox\" checked><label for=\"sk-estimator-id-1\" class=\"sk-toggleable__label sk-toggleable__label-arrow\">XGBClassifier</label><div class=\"sk-toggleable__content\"><pre>XGBClassifier(base_score=None, booster=None, callbacks=None,\n",
       "              colsample_bylevel=None, colsample_bynode=None,\n",
       "              colsample_bytree=None, early_stopping_rounds=None,\n",
       "              enable_categorical=False, eval_metric=None, feature_types=None,\n",
       "              gamma=None, gpu_id=None, grow_policy=None, importance_type=None,\n",
       "              interaction_constraints=None, learning_rate=None, max_bin=None,\n",
       "              max_cat_threshold=None, max_cat_to_onehot=None,\n",
       "              max_delta_step=None, max_depth=7, max_leaves=None,\n",
       "              min_child_weight=None, missing=nan, monotone_constraints=None,\n",
       "              n_estimators=100, n_jobs=None, num_class=3,\n",
       "              num_parallel_tree=None, objective=&#x27;multi:softmax&#x27;, ...)</pre></div></div></div></div></div>"
      ],
      "text/plain": [
       "XGBClassifier(base_score=None, booster=None, callbacks=None,\n",
       "              colsample_bylevel=None, colsample_bynode=None,\n",
       "              colsample_bytree=None, early_stopping_rounds=None,\n",
       "              enable_categorical=False, eval_metric=None, feature_types=None,\n",
       "              gamma=None, gpu_id=None, grow_policy=None, importance_type=None,\n",
       "              interaction_constraints=None, learning_rate=None, max_bin=None,\n",
       "              max_cat_threshold=None, max_cat_to_onehot=None,\n",
       "              max_delta_step=None, max_depth=7, max_leaves=None,\n",
       "              min_child_weight=None, missing=nan, monotone_constraints=None,\n",
       "              n_estimators=100, n_jobs=None, num_class=3,\n",
       "              num_parallel_tree=None, objective='multi:softmax', ...)"
      ]
     },
     "execution_count": 12,
     "metadata": {},
     "output_type": "execute_result"
    }
   ],
   "source": [
    "xgb_c=XGBClassifier(objective='multi:softmax',max_depth=7, num_class=3, random_state=2000)\n",
    "xgb_c.fit(std_X_train,Y_train)"
   ]
  },
  {
   "cell_type": "code",
   "execution_count": 13,
   "id": "a45f660a",
   "metadata": {},
   "outputs": [
    {
     "data": {
      "text/plain": [
       "array([0, 0, 0, ..., 0, 1, 0])"
      ]
     },
     "execution_count": 13,
     "metadata": {},
     "output_type": "execute_result"
    }
   ],
   "source": [
    "Y_pred=xgb_c.predict(std_X_test)\n",
    "Y_pred"
   ]
  },
  {
   "cell_type": "code",
   "execution_count": 14,
   "id": "ce0eae29",
   "metadata": {},
   "outputs": [
    {
     "data": {
      "text/plain": [
       "22891     0\n",
       "205879    0\n",
       "67584     0\n",
       "259427    0\n",
       "27322     1\n",
       "         ..\n",
       "122928    0\n",
       "129309    0\n",
       "15063     0\n",
       "100686    1\n",
       "106519    0\n",
       "Name: Corona, Length: 83655, dtype: int64"
      ]
     },
     "execution_count": 14,
     "metadata": {},
     "output_type": "execute_result"
    }
   ],
   "source": [
    "Y_test"
   ]
  },
  {
   "cell_type": "code",
   "execution_count": 15,
   "id": "21c9b53a",
   "metadata": {},
   "outputs": [
    {
     "data": {
      "text/plain": [
       "array([[77433,   636,     0],\n",
       "       [ 1982,  2435,     1],\n",
       "       [ 1120,    48,     0]], dtype=int64)"
      ]
     },
     "execution_count": 15,
     "metadata": {},
     "output_type": "execute_result"
    }
   ],
   "source": [
    "from sklearn.metrics import confusion_matrix\n",
    "confusion_matrix(Y_test,Y_pred)"
   ]
  },
  {
   "cell_type": "code",
   "execution_count": 16,
   "id": "2b299bdf",
   "metadata": {},
   "outputs": [
    {
     "data": {
      "text/plain": [
       "0.954730739346124"
      ]
     },
     "execution_count": 16,
     "metadata": {},
     "output_type": "execute_result"
    }
   ],
   "source": [
    "accuracy_score(Y_test,Y_pred)"
   ]
  },
  {
   "cell_type": "markdown",
   "id": "971f9143",
   "metadata": {},
   "source": [
    "#### <font color = 'White'>---- Cross Validation of XGBoost Classifier Model ----"
   ]
  },
  {
   "cell_type": "code",
   "execution_count": 17,
   "id": "18cc0678",
   "metadata": {},
   "outputs": [],
   "source": [
    "model=XGBClassifier()\n",
    "ssplit=ShuffleSplit(n_splits=10,test_size=0.30)\n",
    "result=cross_val_score(model,X,Y,cv=ssplit)"
   ]
  },
  {
   "cell_type": "code",
   "execution_count": 18,
   "id": "9c949266",
   "metadata": {},
   "outputs": [
    {
     "name": "stdout",
     "output_type": "stream",
     "text": [
      "[0.95645209 0.95557946 0.95605762 0.95567509 0.95640428 0.9569422\n",
      " 0.95739645 0.95618911 0.95606957 0.95629669]\n",
      "0.9563062578447192\n"
     ]
    }
   ],
   "source": [
    "print(result)\n",
    "print(result.mean())"
   ]
  },
  {
   "cell_type": "markdown",
   "id": "81860dc7",
   "metadata": {},
   "source": [
    "#### <font color = 'Orange'>---- After doing different Classification and Regression process we have got the different Accuracy as mentioned below ----"
   ]
  },
  {
   "cell_type": "markdown",
   "id": "a0778b8a",
   "metadata": {},
   "source": [
    "#### <font color = 'Yellow'> //1//--- Doing Logistic Regression we got the Accuracy of around 94%."
   ]
  },
  {
   "cell_type": "markdown",
   "id": "d0d30023",
   "metadata": {},
   "source": [
    "#### <font color = 'Yellow'>//2//--- Doing Decision Tree Classification we got the Accuracy of around 95%."
   ]
  },
  {
   "cell_type": "markdown",
   "id": "5d6833d4",
   "metadata": {},
   "source": [
    "#### <font color = 'Yellow'>//3//--- Doing Random Forest Classification we got the Accuracy of around 95%."
   ]
  },
  {
   "cell_type": "markdown",
   "id": "4b396888",
   "metadata": {},
   "source": [
    "#### <font color = 'Yellow'>//4//--- Doing SV Classification we got the Accuracy of around 95%."
   ]
  },
  {
   "cell_type": "markdown",
   "id": "3f28ba09",
   "metadata": {},
   "source": [
    "####  <font color = 'Yellow'>//5//--- Doing XGBoost Classification we got the Accuracy of around 95%."
   ]
  },
  {
   "cell_type": "code",
   "execution_count": null,
   "id": "12d767b5",
   "metadata": {},
   "outputs": [],
   "source": []
  },
  {
   "cell_type": "markdown",
   "id": "0e46991b",
   "metadata": {},
   "source": [
    "### ----Conclusion----\n",
    "\n",
    "<br>\n",
    "---- Here In this \"COVID19 Prediction\" end-to-end project, I set out to develop a machine learning model that can predict wheather a patient is infected with COVID19 or NOT. Through a systematic process, I have done all the elementry Data Analysing steps needed and plotted graphs to determine the correlation among the variables and addressed as data exploration,data preprocessing,feature encoding,feature selection and model building and evaluation to achieve our goal. \n",
    "\n",
    "<br>\n",
    "---- In Feature selection and Model building , I have used five different types of Machine Learning models to achieve the best predictive model. So here all the models have performed well and got the most same \"around 95%\" accuracy with FOUR Models named as Decision Tree Classification process,Random Forest Classification process,SV Classification Process,XGBoost Classification process.So,here in this case some other things we have to keep in our mind like which process taking more or less time,usage of memory,model complexity,resource constraints etc.\n",
    "\n",
    "<br>\n",
    "So here, Among these four models I am going to cancel out the SV Classification process and XGBoost Classification process as these two models taking so much time to predict and memory cosumption will be more in these cases. Now between Decision Tree Classification process and Random Forest Classification process they both are kind of equally time consuming but in Random forest classification model complexity is comperatively more than the Dicision tree Classification Process and also nio overfitting issue found in this Decision Tree Classification Model.So here I am going to choose the Decision Tree Classification Model with around 95% accuracy particularly for this project.\n",
    "\n",
    "<br>\n",
    "---- In conclusion,this \"COVID19 Prediction\" end-to-end project is showing the power of machine learning in automating and optimizing the COVID status decision making process.With the data-driven insights and predictive modeling,this project will contribute in the better-informed COVID status diagnostic and demonstrated the potential for further advancements in the medical sectors."
   ]
  },
  {
   "cell_type": "markdown",
   "id": "5e668e0f",
   "metadata": {},
   "source": [
    "## --------------------------------- END ---------------------------------------"
   ]
  }
 ],
 "metadata": {
  "kernelspec": {
   "display_name": "Python 3 (ipykernel)",
   "language": "python",
   "name": "python3"
  },
  "language_info": {
   "codemirror_mode": {
    "name": "ipython",
    "version": 3
   },
   "file_extension": ".py",
   "mimetype": "text/x-python",
   "name": "python",
   "nbconvert_exporter": "python",
   "pygments_lexer": "ipython3",
   "version": "3.10.9"
  }
 },
 "nbformat": 4,
 "nbformat_minor": 5
}
